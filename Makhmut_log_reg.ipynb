{
 "cells": [
  {
   "cell_type": "code",
   "execution_count": 2,
   "metadata": {},
   "outputs": [],
   "source": [
    "#in the code below , i build score card based on log-reg model\n",
    "#Syzdykayev Makhmut"
   ]
  },
  {
   "cell_type": "code",
   "execution_count": 1,
   "metadata": {},
   "outputs": [
    {
     "name": "stdout",
     "output_type": "stream",
     "text": [
      "Populating the interactive namespace from numpy and matplotlib\n"
     ]
    },
    {
     "name": "stderr",
     "output_type": "stream",
     "text": [
      "/Users/a1/anaconda3/lib/python3.7/site-packages/statsmodels/compat/pandas.py:49: FutureWarning: The Panel class is removed from pandas. Accessing it from the top-level namespace will also be removed in the next version\n",
      "  data_klasses = (pandas.Series, pandas.DataFrame, pandas.Panel)\n",
      "/Users/a1/anaconda3/lib/python3.7/site-packages/dask/config.py:168: YAMLLoadWarning: calling yaml.load() without Loader=... is deprecated, as the default Loader is unsafe. Please read https://msg.pyyaml.org/load for full details.\n",
      "  data = yaml.load(f.read()) or {}\n",
      "/Users/a1/anaconda3/lib/python3.7/site-packages/dask/dataframe/utils.py:13: FutureWarning: pandas.util.testing is deprecated. Use the functions in the public API at pandas.testing instead.\n",
      "  import pandas.util.testing as tm\n",
      "/Users/a1/anaconda3/lib/python3.7/site-packages/distributed/config.py:20: YAMLLoadWarning: calling yaml.load() without Loader=... is deprecated, as the default Loader is unsafe. Please read https://msg.pyyaml.org/load for full details.\n",
      "  defaults = yaml.load(f)\n"
     ]
    }
   ],
   "source": [
    "import pandas as pd\n",
    "import numpy as np\n",
    "import scorecardpy as sc\n",
    "\n",
    "%pylab inline\n",
    "from matplotlib import pyplot as plt\n",
    "\n",
    "from sklearn.model_selection import train_test_split, cross_val_score\n",
    "\n",
    "from sklearn.model_selection import GridSearchCV\n",
    "from sklearn.tree import DecisionTreeClassifier\n",
    "\n",
    "import statsmodels.api as sm\n",
    "\n",
    "import lightgbm\n",
    "import xgboost as xgb\n",
    "\n",
    "import warnings\n",
    "warnings.filterwarnings('ignore')\n",
    "\n",
    "from xgboost import XGBClassifier, plot_importance\n",
    "\n",
    "import pickle\n",
    "from hyperopt import fmin, tpe, hp, STATUS_OK, Trials\n",
    "\n",
    "from matplotlib import rc\n",
    "rc('font', family = 'Verdana')"
   ]
  },
  {
   "cell_type": "code",
   "execution_count": 2,
   "metadata": {},
   "outputs": [
    {
     "name": "stdout",
     "output_type": "stream",
     "text": [
      "(30000, 25)\n",
      "ID  -  int64\n",
      "LIMIT_BAL  -  int64\n",
      "SEX  -  object\n",
      "EDUCATION  -  object\n",
      "MARRIAGE  -  object\n",
      "AGE  -  int64\n",
      "PAY_0  -  int64\n",
      "PAY_2  -  int64\n",
      "PAY_3  -  int64\n",
      "PAY_4  -  int64\n",
      "PAY_5  -  int64\n",
      "PAY_6  -  int64\n",
      "BILL_AMT1  -  int64\n",
      "BILL_AMT2  -  int64\n",
      "BILL_AMT3  -  int64\n",
      "BILL_AMT4  -  int64\n",
      "BILL_AMT5  -  int64\n",
      "BILL_AMT6  -  int64\n",
      "PAY_AMT1  -  int64\n",
      "PAY_AMT2  -  int64\n",
      "PAY_AMT3  -  int64\n",
      "PAY_AMT4  -  int64\n",
      "PAY_AMT5  -  int64\n",
      "PAY_AMT6  -  int64\n",
      "target  -  int64\n"
     ]
    }
   ],
   "source": [
    "data = pd.read_excel('data_set_excel.xlsx')\n",
    "print(data.shape)\n",
    "for column_name in data.columns:\n",
    "    print(column_name, ' - ', data[column_name].dtype)"
   ]
  },
  {
   "cell_type": "code",
   "execution_count": 3,
   "metadata": {},
   "outputs": [],
   "source": [
    "data.drop(columns = ['ID'], inplace = True)"
   ]
  },
  {
   "cell_type": "code",
   "execution_count": 4,
   "metadata": {},
   "outputs": [],
   "source": [
    "data.fillna(-9999, inplace=True)"
   ]
  },
  {
   "cell_type": "code",
   "execution_count": 5,
   "metadata": {},
   "outputs": [
    {
     "name": "stdout",
     "output_type": "stream",
     "text": [
      "(30000, 24) (30000, 31)\n"
     ]
    },
    {
     "data": {
      "text/html": [
       "<div>\n",
       "<style scoped>\n",
       "    .dataframe tbody tr th:only-of-type {\n",
       "        vertical-align: middle;\n",
       "    }\n",
       "\n",
       "    .dataframe tbody tr th {\n",
       "        vertical-align: top;\n",
       "    }\n",
       "\n",
       "    .dataframe thead th {\n",
       "        text-align: right;\n",
       "    }\n",
       "</style>\n",
       "<table border=\"1\" class=\"dataframe\">\n",
       "  <thead>\n",
       "    <tr style=\"text-align: right;\">\n",
       "      <th></th>\n",
       "      <th>LIMIT_BAL</th>\n",
       "      <th>SEX</th>\n",
       "      <th>EDUCATION</th>\n",
       "      <th>MARRIAGE</th>\n",
       "      <th>AGE</th>\n",
       "      <th>PAY_0</th>\n",
       "      <th>PAY_2</th>\n",
       "      <th>PAY_3</th>\n",
       "      <th>PAY_4</th>\n",
       "      <th>PAY_5</th>\n",
       "      <th>...</th>\n",
       "      <th>BILL_AMT4</th>\n",
       "      <th>BILL_AMT5</th>\n",
       "      <th>BILL_AMT6</th>\n",
       "      <th>PAY_AMT1</th>\n",
       "      <th>PAY_AMT2</th>\n",
       "      <th>PAY_AMT3</th>\n",
       "      <th>PAY_AMT4</th>\n",
       "      <th>PAY_AMT5</th>\n",
       "      <th>PAY_AMT6</th>\n",
       "      <th>target</th>\n",
       "    </tr>\n",
       "  </thead>\n",
       "  <tbody>\n",
       "    <tr>\n",
       "      <th>0</th>\n",
       "      <td>20000</td>\n",
       "      <td>female</td>\n",
       "      <td>bachelor</td>\n",
       "      <td>married</td>\n",
       "      <td>24</td>\n",
       "      <td>2</td>\n",
       "      <td>2</td>\n",
       "      <td>-1</td>\n",
       "      <td>-1</td>\n",
       "      <td>-2</td>\n",
       "      <td>...</td>\n",
       "      <td>0</td>\n",
       "      <td>0</td>\n",
       "      <td>0</td>\n",
       "      <td>0</td>\n",
       "      <td>689</td>\n",
       "      <td>0</td>\n",
       "      <td>0</td>\n",
       "      <td>0</td>\n",
       "      <td>0</td>\n",
       "      <td>1</td>\n",
       "    </tr>\n",
       "    <tr>\n",
       "      <th>1</th>\n",
       "      <td>120000</td>\n",
       "      <td>female</td>\n",
       "      <td>bachelor</td>\n",
       "      <td>single</td>\n",
       "      <td>26</td>\n",
       "      <td>-1</td>\n",
       "      <td>2</td>\n",
       "      <td>0</td>\n",
       "      <td>0</td>\n",
       "      <td>0</td>\n",
       "      <td>...</td>\n",
       "      <td>3272</td>\n",
       "      <td>3455</td>\n",
       "      <td>3261</td>\n",
       "      <td>0</td>\n",
       "      <td>1000</td>\n",
       "      <td>1000</td>\n",
       "      <td>1000</td>\n",
       "      <td>0</td>\n",
       "      <td>2000</td>\n",
       "      <td>1</td>\n",
       "    </tr>\n",
       "    <tr>\n",
       "      <th>2</th>\n",
       "      <td>90000</td>\n",
       "      <td>female</td>\n",
       "      <td>bachelor</td>\n",
       "      <td>single</td>\n",
       "      <td>34</td>\n",
       "      <td>0</td>\n",
       "      <td>0</td>\n",
       "      <td>0</td>\n",
       "      <td>0</td>\n",
       "      <td>0</td>\n",
       "      <td>...</td>\n",
       "      <td>14331</td>\n",
       "      <td>14948</td>\n",
       "      <td>15549</td>\n",
       "      <td>1518</td>\n",
       "      <td>1500</td>\n",
       "      <td>1000</td>\n",
       "      <td>1000</td>\n",
       "      <td>1000</td>\n",
       "      <td>5000</td>\n",
       "      <td>0</td>\n",
       "    </tr>\n",
       "    <tr>\n",
       "      <th>3</th>\n",
       "      <td>50000</td>\n",
       "      <td>female</td>\n",
       "      <td>bachelor</td>\n",
       "      <td>married</td>\n",
       "      <td>37</td>\n",
       "      <td>0</td>\n",
       "      <td>0</td>\n",
       "      <td>0</td>\n",
       "      <td>0</td>\n",
       "      <td>0</td>\n",
       "      <td>...</td>\n",
       "      <td>28314</td>\n",
       "      <td>28959</td>\n",
       "      <td>29547</td>\n",
       "      <td>2000</td>\n",
       "      <td>2019</td>\n",
       "      <td>1200</td>\n",
       "      <td>1100</td>\n",
       "      <td>1069</td>\n",
       "      <td>1000</td>\n",
       "      <td>0</td>\n",
       "    </tr>\n",
       "    <tr>\n",
       "      <th>4</th>\n",
       "      <td>50000</td>\n",
       "      <td>male</td>\n",
       "      <td>bachelor</td>\n",
       "      <td>married</td>\n",
       "      <td>57</td>\n",
       "      <td>-1</td>\n",
       "      <td>0</td>\n",
       "      <td>-1</td>\n",
       "      <td>0</td>\n",
       "      <td>0</td>\n",
       "      <td>...</td>\n",
       "      <td>20940</td>\n",
       "      <td>19146</td>\n",
       "      <td>19131</td>\n",
       "      <td>2000</td>\n",
       "      <td>36681</td>\n",
       "      <td>10000</td>\n",
       "      <td>9000</td>\n",
       "      <td>689</td>\n",
       "      <td>679</td>\n",
       "      <td>0</td>\n",
       "    </tr>\n",
       "  </tbody>\n",
       "</table>\n",
       "<p>5 rows × 24 columns</p>\n",
       "</div>"
      ],
      "text/plain": [
       "   LIMIT_BAL     SEX EDUCATION MARRIAGE  AGE  PAY_0  PAY_2  PAY_3  PAY_4  \\\n",
       "0      20000  female  bachelor  married   24      2      2     -1     -1   \n",
       "1     120000  female  bachelor   single   26     -1      2      0      0   \n",
       "2      90000  female  bachelor   single   34      0      0      0      0   \n",
       "3      50000  female  bachelor  married   37      0      0      0      0   \n",
       "4      50000    male  bachelor  married   57     -1      0     -1      0   \n",
       "\n",
       "   PAY_5  ...  BILL_AMT4  BILL_AMT5  BILL_AMT6  PAY_AMT1  PAY_AMT2  PAY_AMT3  \\\n",
       "0     -2  ...          0          0          0         0       689         0   \n",
       "1      0  ...       3272       3455       3261         0      1000      1000   \n",
       "2      0  ...      14331      14948      15549      1518      1500      1000   \n",
       "3      0  ...      28314      28959      29547      2000      2019      1200   \n",
       "4      0  ...      20940      19146      19131      2000     36681     10000   \n",
       "\n",
       "   PAY_AMT4  PAY_AMT5  PAY_AMT6  target  \n",
       "0         0         0         0       1  \n",
       "1      1000         0      2000       1  \n",
       "2      1000      1000      5000       0  \n",
       "3      1100      1069      1000       0  \n",
       "4      9000       689       679       0  \n",
       "\n",
       "[5 rows x 24 columns]"
      ]
     },
     "execution_count": 5,
     "metadata": {},
     "output_type": "execute_result"
    }
   ],
   "source": [
    "text_features = [col for col in data.columns if data[col].dtype == 'object']\n",
    "text_data = pd.get_dummies(data[text_features], prefix = text_features, drop_first = True)\n",
    "\n",
    "numeric_features = [col for col in data.columns if data[col].dtype != 'object']\n",
    "data_numeric = pd.concat([data[numeric_features], text_data], axis = 1)\n",
    "\n",
    "print(data.shape, data_numeric.shape)\n",
    "data.head(5)"
   ]
  },
  {
   "cell_type": "code",
   "execution_count": 6,
   "metadata": {},
   "outputs": [
    {
     "data": {
      "text/html": [
       "<div>\n",
       "<style scoped>\n",
       "    .dataframe tbody tr th:only-of-type {\n",
       "        vertical-align: middle;\n",
       "    }\n",
       "\n",
       "    .dataframe tbody tr th {\n",
       "        vertical-align: top;\n",
       "    }\n",
       "\n",
       "    .dataframe thead th {\n",
       "        text-align: right;\n",
       "    }\n",
       "</style>\n",
       "<table border=\"1\" class=\"dataframe\">\n",
       "  <thead>\n",
       "    <tr style=\"text-align: right;\">\n",
       "      <th></th>\n",
       "      <th>LIMIT_BAL</th>\n",
       "      <th>AGE</th>\n",
       "      <th>PAY_0</th>\n",
       "      <th>PAY_2</th>\n",
       "      <th>PAY_3</th>\n",
       "      <th>PAY_4</th>\n",
       "      <th>PAY_5</th>\n",
       "      <th>PAY_6</th>\n",
       "      <th>BILL_AMT1</th>\n",
       "      <th>BILL_AMT2</th>\n",
       "      <th>...</th>\n",
       "      <th>SEX_male</th>\n",
       "      <th>EDUCATION_bachelor</th>\n",
       "      <th>EDUCATION_college</th>\n",
       "      <th>EDUCATION_doctoral studies</th>\n",
       "      <th>EDUCATION_graduate school</th>\n",
       "      <th>EDUCATION_high school</th>\n",
       "      <th>EDUCATION_magistracy</th>\n",
       "      <th>MARRIAGE_divorced</th>\n",
       "      <th>MARRIAGE_married</th>\n",
       "      <th>MARRIAGE_single</th>\n",
       "    </tr>\n",
       "  </thead>\n",
       "  <tbody>\n",
       "    <tr>\n",
       "      <th>0</th>\n",
       "      <td>20000</td>\n",
       "      <td>24</td>\n",
       "      <td>2</td>\n",
       "      <td>2</td>\n",
       "      <td>-1</td>\n",
       "      <td>-1</td>\n",
       "      <td>-2</td>\n",
       "      <td>-2</td>\n",
       "      <td>3913</td>\n",
       "      <td>3102</td>\n",
       "      <td>...</td>\n",
       "      <td>0</td>\n",
       "      <td>1</td>\n",
       "      <td>0</td>\n",
       "      <td>0</td>\n",
       "      <td>0</td>\n",
       "      <td>0</td>\n",
       "      <td>0</td>\n",
       "      <td>0</td>\n",
       "      <td>1</td>\n",
       "      <td>0</td>\n",
       "    </tr>\n",
       "    <tr>\n",
       "      <th>1</th>\n",
       "      <td>120000</td>\n",
       "      <td>26</td>\n",
       "      <td>-1</td>\n",
       "      <td>2</td>\n",
       "      <td>0</td>\n",
       "      <td>0</td>\n",
       "      <td>0</td>\n",
       "      <td>2</td>\n",
       "      <td>2682</td>\n",
       "      <td>1725</td>\n",
       "      <td>...</td>\n",
       "      <td>0</td>\n",
       "      <td>1</td>\n",
       "      <td>0</td>\n",
       "      <td>0</td>\n",
       "      <td>0</td>\n",
       "      <td>0</td>\n",
       "      <td>0</td>\n",
       "      <td>0</td>\n",
       "      <td>0</td>\n",
       "      <td>1</td>\n",
       "    </tr>\n",
       "    <tr>\n",
       "      <th>2</th>\n",
       "      <td>90000</td>\n",
       "      <td>34</td>\n",
       "      <td>0</td>\n",
       "      <td>0</td>\n",
       "      <td>0</td>\n",
       "      <td>0</td>\n",
       "      <td>0</td>\n",
       "      <td>0</td>\n",
       "      <td>29239</td>\n",
       "      <td>14027</td>\n",
       "      <td>...</td>\n",
       "      <td>0</td>\n",
       "      <td>1</td>\n",
       "      <td>0</td>\n",
       "      <td>0</td>\n",
       "      <td>0</td>\n",
       "      <td>0</td>\n",
       "      <td>0</td>\n",
       "      <td>0</td>\n",
       "      <td>0</td>\n",
       "      <td>1</td>\n",
       "    </tr>\n",
       "    <tr>\n",
       "      <th>3</th>\n",
       "      <td>50000</td>\n",
       "      <td>37</td>\n",
       "      <td>0</td>\n",
       "      <td>0</td>\n",
       "      <td>0</td>\n",
       "      <td>0</td>\n",
       "      <td>0</td>\n",
       "      <td>0</td>\n",
       "      <td>46990</td>\n",
       "      <td>48233</td>\n",
       "      <td>...</td>\n",
       "      <td>0</td>\n",
       "      <td>1</td>\n",
       "      <td>0</td>\n",
       "      <td>0</td>\n",
       "      <td>0</td>\n",
       "      <td>0</td>\n",
       "      <td>0</td>\n",
       "      <td>0</td>\n",
       "      <td>1</td>\n",
       "      <td>0</td>\n",
       "    </tr>\n",
       "    <tr>\n",
       "      <th>4</th>\n",
       "      <td>50000</td>\n",
       "      <td>57</td>\n",
       "      <td>-1</td>\n",
       "      <td>0</td>\n",
       "      <td>-1</td>\n",
       "      <td>0</td>\n",
       "      <td>0</td>\n",
       "      <td>0</td>\n",
       "      <td>8617</td>\n",
       "      <td>5670</td>\n",
       "      <td>...</td>\n",
       "      <td>1</td>\n",
       "      <td>1</td>\n",
       "      <td>0</td>\n",
       "      <td>0</td>\n",
       "      <td>0</td>\n",
       "      <td>0</td>\n",
       "      <td>0</td>\n",
       "      <td>0</td>\n",
       "      <td>1</td>\n",
       "      <td>0</td>\n",
       "    </tr>\n",
       "    <tr>\n",
       "      <th>...</th>\n",
       "      <td>...</td>\n",
       "      <td>...</td>\n",
       "      <td>...</td>\n",
       "      <td>...</td>\n",
       "      <td>...</td>\n",
       "      <td>...</td>\n",
       "      <td>...</td>\n",
       "      <td>...</td>\n",
       "      <td>...</td>\n",
       "      <td>...</td>\n",
       "      <td>...</td>\n",
       "      <td>...</td>\n",
       "      <td>...</td>\n",
       "      <td>...</td>\n",
       "      <td>...</td>\n",
       "      <td>...</td>\n",
       "      <td>...</td>\n",
       "      <td>...</td>\n",
       "      <td>...</td>\n",
       "      <td>...</td>\n",
       "      <td>...</td>\n",
       "    </tr>\n",
       "    <tr>\n",
       "      <th>29995</th>\n",
       "      <td>220000</td>\n",
       "      <td>39</td>\n",
       "      <td>0</td>\n",
       "      <td>0</td>\n",
       "      <td>0</td>\n",
       "      <td>0</td>\n",
       "      <td>0</td>\n",
       "      <td>0</td>\n",
       "      <td>188948</td>\n",
       "      <td>192815</td>\n",
       "      <td>...</td>\n",
       "      <td>1</td>\n",
       "      <td>0</td>\n",
       "      <td>0</td>\n",
       "      <td>0</td>\n",
       "      <td>0</td>\n",
       "      <td>1</td>\n",
       "      <td>0</td>\n",
       "      <td>0</td>\n",
       "      <td>1</td>\n",
       "      <td>0</td>\n",
       "    </tr>\n",
       "    <tr>\n",
       "      <th>29996</th>\n",
       "      <td>150000</td>\n",
       "      <td>43</td>\n",
       "      <td>-1</td>\n",
       "      <td>-1</td>\n",
       "      <td>-1</td>\n",
       "      <td>-1</td>\n",
       "      <td>0</td>\n",
       "      <td>0</td>\n",
       "      <td>1683</td>\n",
       "      <td>1828</td>\n",
       "      <td>...</td>\n",
       "      <td>1</td>\n",
       "      <td>0</td>\n",
       "      <td>0</td>\n",
       "      <td>0</td>\n",
       "      <td>0</td>\n",
       "      <td>1</td>\n",
       "      <td>0</td>\n",
       "      <td>0</td>\n",
       "      <td>0</td>\n",
       "      <td>1</td>\n",
       "    </tr>\n",
       "    <tr>\n",
       "      <th>29997</th>\n",
       "      <td>30000</td>\n",
       "      <td>37</td>\n",
       "      <td>4</td>\n",
       "      <td>3</td>\n",
       "      <td>2</td>\n",
       "      <td>-1</td>\n",
       "      <td>0</td>\n",
       "      <td>0</td>\n",
       "      <td>3565</td>\n",
       "      <td>3356</td>\n",
       "      <td>...</td>\n",
       "      <td>1</td>\n",
       "      <td>1</td>\n",
       "      <td>0</td>\n",
       "      <td>0</td>\n",
       "      <td>0</td>\n",
       "      <td>0</td>\n",
       "      <td>0</td>\n",
       "      <td>0</td>\n",
       "      <td>0</td>\n",
       "      <td>1</td>\n",
       "    </tr>\n",
       "    <tr>\n",
       "      <th>29998</th>\n",
       "      <td>80000</td>\n",
       "      <td>41</td>\n",
       "      <td>1</td>\n",
       "      <td>-1</td>\n",
       "      <td>0</td>\n",
       "      <td>0</td>\n",
       "      <td>0</td>\n",
       "      <td>-1</td>\n",
       "      <td>-1645</td>\n",
       "      <td>78379</td>\n",
       "      <td>...</td>\n",
       "      <td>1</td>\n",
       "      <td>0</td>\n",
       "      <td>0</td>\n",
       "      <td>0</td>\n",
       "      <td>0</td>\n",
       "      <td>1</td>\n",
       "      <td>0</td>\n",
       "      <td>0</td>\n",
       "      <td>1</td>\n",
       "      <td>0</td>\n",
       "    </tr>\n",
       "    <tr>\n",
       "      <th>29999</th>\n",
       "      <td>50000</td>\n",
       "      <td>46</td>\n",
       "      <td>0</td>\n",
       "      <td>0</td>\n",
       "      <td>0</td>\n",
       "      <td>0</td>\n",
       "      <td>0</td>\n",
       "      <td>0</td>\n",
       "      <td>47929</td>\n",
       "      <td>48905</td>\n",
       "      <td>...</td>\n",
       "      <td>1</td>\n",
       "      <td>1</td>\n",
       "      <td>0</td>\n",
       "      <td>0</td>\n",
       "      <td>0</td>\n",
       "      <td>0</td>\n",
       "      <td>0</td>\n",
       "      <td>0</td>\n",
       "      <td>1</td>\n",
       "      <td>0</td>\n",
       "    </tr>\n",
       "  </tbody>\n",
       "</table>\n",
       "<p>30000 rows × 31 columns</p>\n",
       "</div>"
      ],
      "text/plain": [
       "       LIMIT_BAL  AGE  PAY_0  PAY_2  PAY_3  PAY_4  PAY_5  PAY_6  BILL_AMT1  \\\n",
       "0          20000   24      2      2     -1     -1     -2     -2       3913   \n",
       "1         120000   26     -1      2      0      0      0      2       2682   \n",
       "2          90000   34      0      0      0      0      0      0      29239   \n",
       "3          50000   37      0      0      0      0      0      0      46990   \n",
       "4          50000   57     -1      0     -1      0      0      0       8617   \n",
       "...          ...  ...    ...    ...    ...    ...    ...    ...        ...   \n",
       "29995     220000   39      0      0      0      0      0      0     188948   \n",
       "29996     150000   43     -1     -1     -1     -1      0      0       1683   \n",
       "29997      30000   37      4      3      2     -1      0      0       3565   \n",
       "29998      80000   41      1     -1      0      0      0     -1      -1645   \n",
       "29999      50000   46      0      0      0      0      0      0      47929   \n",
       "\n",
       "       BILL_AMT2  ...  SEX_male  EDUCATION_bachelor  EDUCATION_college  \\\n",
       "0           3102  ...         0                   1                  0   \n",
       "1           1725  ...         0                   1                  0   \n",
       "2          14027  ...         0                   1                  0   \n",
       "3          48233  ...         0                   1                  0   \n",
       "4           5670  ...         1                   1                  0   \n",
       "...          ...  ...       ...                 ...                ...   \n",
       "29995     192815  ...         1                   0                  0   \n",
       "29996       1828  ...         1                   0                  0   \n",
       "29997       3356  ...         1                   1                  0   \n",
       "29998      78379  ...         1                   0                  0   \n",
       "29999      48905  ...         1                   1                  0   \n",
       "\n",
       "       EDUCATION_doctoral studies  EDUCATION_graduate school  \\\n",
       "0                               0                          0   \n",
       "1                               0                          0   \n",
       "2                               0                          0   \n",
       "3                               0                          0   \n",
       "4                               0                          0   \n",
       "...                           ...                        ...   \n",
       "29995                           0                          0   \n",
       "29996                           0                          0   \n",
       "29997                           0                          0   \n",
       "29998                           0                          0   \n",
       "29999                           0                          0   \n",
       "\n",
       "       EDUCATION_high school  EDUCATION_magistracy  MARRIAGE_divorced  \\\n",
       "0                          0                     0                  0   \n",
       "1                          0                     0                  0   \n",
       "2                          0                     0                  0   \n",
       "3                          0                     0                  0   \n",
       "4                          0                     0                  0   \n",
       "...                      ...                   ...                ...   \n",
       "29995                      1                     0                  0   \n",
       "29996                      1                     0                  0   \n",
       "29997                      0                     0                  0   \n",
       "29998                      1                     0                  0   \n",
       "29999                      0                     0                  0   \n",
       "\n",
       "       MARRIAGE_married  MARRIAGE_single  \n",
       "0                     1                0  \n",
       "1                     0                1  \n",
       "2                     0                1  \n",
       "3                     1                0  \n",
       "4                     1                0  \n",
       "...                 ...              ...  \n",
       "29995                 1                0  \n",
       "29996                 0                1  \n",
       "29997                 0                1  \n",
       "29998                 1                0  \n",
       "29999                 1                0  \n",
       "\n",
       "[30000 rows x 31 columns]"
      ]
     },
     "execution_count": 6,
     "metadata": {},
     "output_type": "execute_result"
    }
   ],
   "source": [
    "data_numeric"
   ]
  },
  {
   "cell_type": "code",
   "execution_count": 7,
   "metadata": {},
   "outputs": [],
   "source": [
    "from sklearn.metrics import roc_auc_score"
   ]
  },
  {
   "cell_type": "code",
   "execution_count": 8,
   "metadata": {},
   "outputs": [],
   "source": [
    "from sklearn.model_selection import StratifiedKFold"
   ]
  },
  {
   "cell_type": "code",
   "execution_count": 9,
   "metadata": {},
   "outputs": [],
   "source": [
    "def individual_gini(v):\n",
    "    if data[v].dtypes == 'O':\n",
    "        x = pd.get_dummies(data[v]).values\n",
    "        obvious_gini = 0\n",
    "    else:\n",
    "        x = data[v].values.reshape(-1, 1)\n",
    "        obvious_gini = abs(roc_auc_score(data.target.values,x)*2-1)\n",
    "    \n",
    "    parameters = {'min_weight_fraction_leaf':[0.01, 0.025, 0.05, 0.1]}\n",
    "    dt = DecisionTreeClassifier(random_state=123)\n",
    "    kfolds = StratifiedKFold(4)\n",
    "    clf = GridSearchCV(dt, parameters, cv=kfolds.split(x, data.target.values), scoring='roc_auc')\n",
    "    clf.fit(x, data.target.values)\n",
    "    true_gini = abs(clf.best_score_*2-1)\n",
    "    return max(obvious_gini, true_gini)"
   ]
  },
  {
   "cell_type": "code",
   "execution_count": 10,
   "metadata": {},
   "outputs": [
    {
     "name": "stdout",
     "output_type": "stream",
     "text": [
      "         vars      gini\n",
      "0   LIMIT_BAL  0.236761\n",
      "1         SEX  0.047092\n",
      "2   EDUCATION  0.080282\n",
      "3    MARRIAGE  0.037808\n",
      "4         AGE  0.066473\n",
      "5       PAY_0  0.421178\n",
      "6       PAY_2  0.297225\n",
      "7       PAY_3  0.266843\n",
      "8       PAY_4  0.238613\n",
      "9       PAY_5  0.218534\n",
      "10      PAY_6  0.203236\n",
      "11  BILL_AMT1  0.059442\n",
      "12  BILL_AMT2  0.050444\n",
      "13  BILL_AMT3  0.050912\n",
      "14  BILL_AMT4  0.050309\n",
      "15  BILL_AMT5  0.072859\n",
      "16  BILL_AMT6  0.064760\n",
      "17   PAY_AMT1  0.225657\n",
      "18   PAY_AMT2  0.210601\n",
      "19   PAY_AMT3  0.193110\n",
      "20   PAY_AMT4  0.181013\n",
      "21   PAY_AMT5  0.161249\n",
      "22   PAY_AMT6  0.169705\n",
      "23     target  1.000000\n"
     ]
    }
   ],
   "source": [
    "df_vars_ginis = pd.DataFrame(data = data.columns.values, columns = ['vars'])\n",
    "df_vars_ginis['gini'] = df_vars_ginis['vars'].apply(individual_gini)\n",
    "\n",
    "print(df_vars_ginis)"
   ]
  },
  {
   "cell_type": "code",
   "execution_count": 11,
   "metadata": {},
   "outputs": [],
   "source": [
    "categorical_vars = []\n",
    "numeric_vars = []\n",
    "\n",
    "for col in data.columns:\n",
    "    if data[col].nunique() < 4 or data[col].dtypes == 'O':\n",
    "        categorical_vars.append(col)\n",
    "    else:\n",
    "        numeric_vars.append(col)"
   ]
  },
  {
   "cell_type": "code",
   "execution_count": 12,
   "metadata": {},
   "outputs": [
    {
     "name": "stdout",
     "output_type": "stream",
     "text": [
      "categorical:  ['SEX', 'EDUCATION', 'MARRIAGE', 'target']\n",
      " \n",
      "numerical:  ['LIMIT_BAL', 'AGE', 'PAY_0', 'PAY_2', 'PAY_3', 'PAY_4', 'PAY_5', 'PAY_6', 'BILL_AMT1', 'BILL_AMT2', 'BILL_AMT3', 'BILL_AMT4', 'BILL_AMT5', 'BILL_AMT6', 'PAY_AMT1', 'PAY_AMT2', 'PAY_AMT3', 'PAY_AMT4', 'PAY_AMT5', 'PAY_AMT6']\n"
     ]
    }
   ],
   "source": [
    "print('categorical: ', categorical_vars)\n",
    "print(' ')\n",
    "print('numerical: ', numeric_vars)"
   ]
  },
  {
   "cell_type": "code",
   "execution_count": 13,
   "metadata": {},
   "outputs": [],
   "source": [
    "from scipy import stats"
   ]
  },
  {
   "cell_type": "code",
   "execution_count": 14,
   "metadata": {},
   "outputs": [],
   "source": [
    "sample_size = data.shape[0]\n",
    "\n",
    "def cramers_v(col1, col2):\n",
    "    confusion_matrix = pd.crosstab(data[col1], data[col2])\n",
    "    chi2 = stats.chi2_contingency(confusion_matrix)[0]\n",
    "    \n",
    "    if(sample_size * (min(confusion_matrix.shape)-1) != 0):\n",
    "        return np.sqrt(chi2/(sample_size * (min(confusion_matrix.shape)-1)))\n",
    "    else:\n",
    "        return 0"
   ]
  },
  {
   "cell_type": "code",
   "execution_count": 15,
   "metadata": {},
   "outputs": [
    {
     "data": {
      "text/html": [
       "<div>\n",
       "<style scoped>\n",
       "    .dataframe tbody tr th:only-of-type {\n",
       "        vertical-align: middle;\n",
       "    }\n",
       "\n",
       "    .dataframe tbody tr th {\n",
       "        vertical-align: top;\n",
       "    }\n",
       "\n",
       "    .dataframe thead th {\n",
       "        text-align: right;\n",
       "    }\n",
       "</style>\n",
       "<table border=\"1\" class=\"dataframe\">\n",
       "  <thead>\n",
       "    <tr style=\"text-align: right;\">\n",
       "      <th></th>\n",
       "      <th>var1</th>\n",
       "      <th>var2</th>\n",
       "      <th>corr</th>\n",
       "    </tr>\n",
       "  </thead>\n",
       "  <tbody>\n",
       "    <tr>\n",
       "      <th>0</th>\n",
       "      <td>SEX</td>\n",
       "      <td>EDUCATION</td>\n",
       "      <td>0.032043</td>\n",
       "    </tr>\n",
       "    <tr>\n",
       "      <th>1</th>\n",
       "      <td>SEX</td>\n",
       "      <td>MARRIAGE</td>\n",
       "      <td>0.033171</td>\n",
       "    </tr>\n",
       "    <tr>\n",
       "      <th>2</th>\n",
       "      <td>SEX</td>\n",
       "      <td>target</td>\n",
       "      <td>0.039878</td>\n",
       "    </tr>\n",
       "    <tr>\n",
       "      <th>3</th>\n",
       "      <td>EDUCATION</td>\n",
       "      <td>MARRIAGE</td>\n",
       "      <td>0.114873</td>\n",
       "    </tr>\n",
       "    <tr>\n",
       "      <th>4</th>\n",
       "      <td>EDUCATION</td>\n",
       "      <td>target</td>\n",
       "      <td>0.073760</td>\n",
       "    </tr>\n",
       "    <tr>\n",
       "      <th>5</th>\n",
       "      <td>MARRIAGE</td>\n",
       "      <td>target</td>\n",
       "      <td>0.034478</td>\n",
       "    </tr>\n",
       "  </tbody>\n",
       "</table>\n",
       "</div>"
      ],
      "text/plain": [
       "        var1       var2      corr\n",
       "0        SEX  EDUCATION  0.032043\n",
       "1        SEX   MARRIAGE  0.033171\n",
       "2        SEX     target  0.039878\n",
       "3  EDUCATION   MARRIAGE  0.114873\n",
       "4  EDUCATION     target  0.073760\n",
       "5   MARRIAGE     target  0.034478"
      ]
     },
     "execution_count": 15,
     "metadata": {},
     "output_type": "execute_result"
    }
   ],
   "source": [
    "df_dat_corrs = pd.DataFrame(columns = ['var1', 'var2'])\n",
    "\n",
    "counter = 0\n",
    "for idx, col1 in enumerate(categorical_vars):\n",
    "    for col2 in categorical_vars[idx+1:]:\n",
    "        df_dat_corrs.loc[counter] = [col1, col2]\n",
    "        counter += 1\n",
    "df_dat_corrs['corr'] = df_dat_corrs.apply(lambda row: cramers_v(row['var1'], row['var2']), axis = 1)\n",
    "df_dat_corrs"
   ]
  },
  {
   "cell_type": "code",
   "execution_count": 16,
   "metadata": {},
   "outputs": [
    {
     "data": {
      "text/html": [
       "<div>\n",
       "<style scoped>\n",
       "    .dataframe tbody tr th:only-of-type {\n",
       "        vertical-align: middle;\n",
       "    }\n",
       "\n",
       "    .dataframe tbody tr th {\n",
       "        vertical-align: top;\n",
       "    }\n",
       "\n",
       "    .dataframe thead th {\n",
       "        text-align: right;\n",
       "    }\n",
       "</style>\n",
       "<table border=\"1\" class=\"dataframe\">\n",
       "  <thead>\n",
       "    <tr style=\"text-align: right;\">\n",
       "      <th></th>\n",
       "      <th>var1</th>\n",
       "      <th>var2</th>\n",
       "      <th>corr</th>\n",
       "    </tr>\n",
       "  </thead>\n",
       "  <tbody>\n",
       "    <tr>\n",
       "      <th>3</th>\n",
       "      <td>EDUCATION</td>\n",
       "      <td>MARRIAGE</td>\n",
       "      <td>0.114873</td>\n",
       "    </tr>\n",
       "    <tr>\n",
       "      <th>4</th>\n",
       "      <td>EDUCATION</td>\n",
       "      <td>target</td>\n",
       "      <td>0.073760</td>\n",
       "    </tr>\n",
       "    <tr>\n",
       "      <th>2</th>\n",
       "      <td>SEX</td>\n",
       "      <td>target</td>\n",
       "      <td>0.039878</td>\n",
       "    </tr>\n",
       "    <tr>\n",
       "      <th>5</th>\n",
       "      <td>MARRIAGE</td>\n",
       "      <td>target</td>\n",
       "      <td>0.034478</td>\n",
       "    </tr>\n",
       "    <tr>\n",
       "      <th>1</th>\n",
       "      <td>SEX</td>\n",
       "      <td>MARRIAGE</td>\n",
       "      <td>0.033171</td>\n",
       "    </tr>\n",
       "    <tr>\n",
       "      <th>0</th>\n",
       "      <td>SEX</td>\n",
       "      <td>EDUCATION</td>\n",
       "      <td>0.032043</td>\n",
       "    </tr>\n",
       "  </tbody>\n",
       "</table>\n",
       "</div>"
      ],
      "text/plain": [
       "        var1       var2      corr\n",
       "3  EDUCATION   MARRIAGE  0.114873\n",
       "4  EDUCATION     target  0.073760\n",
       "2        SEX     target  0.039878\n",
       "5   MARRIAGE     target  0.034478\n",
       "1        SEX   MARRIAGE  0.033171\n",
       "0        SEX  EDUCATION  0.032043"
      ]
     },
     "execution_count": 16,
     "metadata": {},
     "output_type": "execute_result"
    }
   ],
   "source": [
    "df_dat_corrs.sort_values(by = ['corr'], ascending = False, inplace = True)\n",
    "df_dat_corrs"
   ]
  },
  {
   "cell_type": "code",
   "execution_count": 17,
   "metadata": {},
   "outputs": [
    {
     "name": "stdout",
     "output_type": "stream",
     "text": [
      "0 variables dropped\n",
      "4 variables left\n"
     ]
    }
   ],
   "source": [
    "to_drop_cat = []\n",
    "log = []\n",
    "for i in df_dat_corrs[df_dat_corrs['corr'] > 0.7]:\n",
    "    v1 = i[0]\n",
    "    v2 = i[1]\n",
    "    \n",
    "    if v1 in to_drop_cat or v2 in to_drop_cat or v1 not in data.columns.values or v2 not in data.columns.values:\n",
    "        continue\n",
    "        \n",
    "    if df_vars_ginis[df_vars_ginis['vars'] == v1].gini.values > df_vars_ginis[df_vars_ginis['vars'] == v2].gini.values:\n",
    "        var_to_drop = v2\n",
    "    else:\n",
    "        var_to_drop = v1\n",
    "        \n",
    "    var_to_leave = v2 if(v1 == var_to_drop) else v1\n",
    "    \n",
    "    log.append([var_to_drop, var_to_leave, i[2]])\n",
    "    to_drop_cat.append(var_to_drop)\n",
    "\n",
    "print(len(to_drop_cat), 'variables dropped')\n",
    "variables2 = [i for i in categorical_vars if i not in to_drop_cat]\n",
    "print(len(variables2), 'variables left')"
   ]
  },
  {
   "cell_type": "code",
   "execution_count": 18,
   "metadata": {},
   "outputs": [
    {
     "data": {
      "text/html": [
       "<div>\n",
       "<style scoped>\n",
       "    .dataframe tbody tr th:only-of-type {\n",
       "        vertical-align: middle;\n",
       "    }\n",
       "\n",
       "    .dataframe tbody tr th {\n",
       "        vertical-align: top;\n",
       "    }\n",
       "\n",
       "    .dataframe thead th {\n",
       "        text-align: right;\n",
       "    }\n",
       "</style>\n",
       "<table border=\"1\" class=\"dataframe\">\n",
       "  <thead>\n",
       "    <tr style=\"text-align: right;\">\n",
       "      <th></th>\n",
       "      <th>LIMIT_BAL</th>\n",
       "      <th>AGE</th>\n",
       "      <th>PAY_0</th>\n",
       "      <th>PAY_2</th>\n",
       "      <th>PAY_3</th>\n",
       "      <th>PAY_4</th>\n",
       "      <th>PAY_5</th>\n",
       "      <th>PAY_6</th>\n",
       "      <th>BILL_AMT1</th>\n",
       "      <th>BILL_AMT2</th>\n",
       "      <th>BILL_AMT3</th>\n",
       "      <th>BILL_AMT4</th>\n",
       "      <th>BILL_AMT5</th>\n",
       "      <th>BILL_AMT6</th>\n",
       "      <th>PAY_AMT1</th>\n",
       "      <th>PAY_AMT2</th>\n",
       "      <th>PAY_AMT3</th>\n",
       "      <th>PAY_AMT4</th>\n",
       "      <th>PAY_AMT5</th>\n",
       "      <th>PAY_AMT6</th>\n",
       "    </tr>\n",
       "  </thead>\n",
       "  <tbody>\n",
       "    <tr>\n",
       "      <th>0</th>\n",
       "      <td>20000</td>\n",
       "      <td>24</td>\n",
       "      <td>2</td>\n",
       "      <td>2</td>\n",
       "      <td>-1</td>\n",
       "      <td>-1</td>\n",
       "      <td>-2</td>\n",
       "      <td>-2</td>\n",
       "      <td>3913</td>\n",
       "      <td>3102</td>\n",
       "      <td>689</td>\n",
       "      <td>0</td>\n",
       "      <td>0</td>\n",
       "      <td>0</td>\n",
       "      <td>0</td>\n",
       "      <td>689</td>\n",
       "      <td>0</td>\n",
       "      <td>0</td>\n",
       "      <td>0</td>\n",
       "      <td>0</td>\n",
       "    </tr>\n",
       "    <tr>\n",
       "      <th>1</th>\n",
       "      <td>120000</td>\n",
       "      <td>26</td>\n",
       "      <td>-1</td>\n",
       "      <td>2</td>\n",
       "      <td>0</td>\n",
       "      <td>0</td>\n",
       "      <td>0</td>\n",
       "      <td>2</td>\n",
       "      <td>2682</td>\n",
       "      <td>1725</td>\n",
       "      <td>2682</td>\n",
       "      <td>3272</td>\n",
       "      <td>3455</td>\n",
       "      <td>3261</td>\n",
       "      <td>0</td>\n",
       "      <td>1000</td>\n",
       "      <td>1000</td>\n",
       "      <td>1000</td>\n",
       "      <td>0</td>\n",
       "      <td>2000</td>\n",
       "    </tr>\n",
       "    <tr>\n",
       "      <th>2</th>\n",
       "      <td>90000</td>\n",
       "      <td>34</td>\n",
       "      <td>0</td>\n",
       "      <td>0</td>\n",
       "      <td>0</td>\n",
       "      <td>0</td>\n",
       "      <td>0</td>\n",
       "      <td>0</td>\n",
       "      <td>29239</td>\n",
       "      <td>14027</td>\n",
       "      <td>13559</td>\n",
       "      <td>14331</td>\n",
       "      <td>14948</td>\n",
       "      <td>15549</td>\n",
       "      <td>1518</td>\n",
       "      <td>1500</td>\n",
       "      <td>1000</td>\n",
       "      <td>1000</td>\n",
       "      <td>1000</td>\n",
       "      <td>5000</td>\n",
       "    </tr>\n",
       "    <tr>\n",
       "      <th>3</th>\n",
       "      <td>50000</td>\n",
       "      <td>37</td>\n",
       "      <td>0</td>\n",
       "      <td>0</td>\n",
       "      <td>0</td>\n",
       "      <td>0</td>\n",
       "      <td>0</td>\n",
       "      <td>0</td>\n",
       "      <td>46990</td>\n",
       "      <td>48233</td>\n",
       "      <td>49291</td>\n",
       "      <td>28314</td>\n",
       "      <td>28959</td>\n",
       "      <td>29547</td>\n",
       "      <td>2000</td>\n",
       "      <td>2019</td>\n",
       "      <td>1200</td>\n",
       "      <td>1100</td>\n",
       "      <td>1069</td>\n",
       "      <td>1000</td>\n",
       "    </tr>\n",
       "    <tr>\n",
       "      <th>4</th>\n",
       "      <td>50000</td>\n",
       "      <td>57</td>\n",
       "      <td>-1</td>\n",
       "      <td>0</td>\n",
       "      <td>-1</td>\n",
       "      <td>0</td>\n",
       "      <td>0</td>\n",
       "      <td>0</td>\n",
       "      <td>8617</td>\n",
       "      <td>5670</td>\n",
       "      <td>35835</td>\n",
       "      <td>20940</td>\n",
       "      <td>19146</td>\n",
       "      <td>19131</td>\n",
       "      <td>2000</td>\n",
       "      <td>36681</td>\n",
       "      <td>10000</td>\n",
       "      <td>9000</td>\n",
       "      <td>689</td>\n",
       "      <td>679</td>\n",
       "    </tr>\n",
       "  </tbody>\n",
       "</table>\n",
       "</div>"
      ],
      "text/plain": [
       "   LIMIT_BAL  AGE  PAY_0  PAY_2  PAY_3  PAY_4  PAY_5  PAY_6  BILL_AMT1  \\\n",
       "0      20000   24      2      2     -1     -1     -2     -2       3913   \n",
       "1     120000   26     -1      2      0      0      0      2       2682   \n",
       "2      90000   34      0      0      0      0      0      0      29239   \n",
       "3      50000   37      0      0      0      0      0      0      46990   \n",
       "4      50000   57     -1      0     -1      0      0      0       8617   \n",
       "\n",
       "   BILL_AMT2  BILL_AMT3  BILL_AMT4  BILL_AMT5  BILL_AMT6  PAY_AMT1  PAY_AMT2  \\\n",
       "0       3102        689          0          0          0         0       689   \n",
       "1       1725       2682       3272       3455       3261         0      1000   \n",
       "2      14027      13559      14331      14948      15549      1518      1500   \n",
       "3      48233      49291      28314      28959      29547      2000      2019   \n",
       "4       5670      35835      20940      19146      19131      2000     36681   \n",
       "\n",
       "   PAY_AMT3  PAY_AMT4  PAY_AMT5  PAY_AMT6  \n",
       "0         0         0         0         0  \n",
       "1      1000      1000         0      2000  \n",
       "2      1000      1000      1000      5000  \n",
       "3      1200      1100      1069      1000  \n",
       "4     10000      9000       689       679  "
      ]
     },
     "execution_count": 18,
     "metadata": {},
     "output_type": "execute_result"
    }
   ],
   "source": [
    "df_numeric = data[numeric_vars]\n",
    "df_numeric.replace(-9999, NaN, inplace = True)\n",
    "df_numeric.head()"
   ]
  },
  {
   "cell_type": "code",
   "execution_count": 19,
   "metadata": {},
   "outputs": [],
   "source": [
    "##%%time\n",
    "df_num_corrs = df_numeric.corr()\n"
   ]
  },
  {
   "cell_type": "code",
   "execution_count": 20,
   "metadata": {},
   "outputs": [
    {
     "data": {
      "text/plain": [
       "array([[0., 1., 1., 1., 1.],\n",
       "       [0., 0., 1., 1., 1.],\n",
       "       [0., 0., 0., 1., 1.],\n",
       "       [0., 0., 0., 0., 1.],\n",
       "       [0., 0., 0., 0., 0.]])"
      ]
     },
     "execution_count": 20,
     "metadata": {},
     "output_type": "execute_result"
    }
   ],
   "source": [
    "np.triu(np.ones(5), k=1)"
   ]
  },
  {
   "cell_type": "code",
   "execution_count": 21,
   "metadata": {},
   "outputs": [
    {
     "name": "stdout",
     "output_type": "stream",
     "text": [
      "(20, 20)\n"
     ]
    },
    {
     "data": {
      "text/plain": [
       "<matplotlib.axes._subplots.AxesSubplot at 0x1c2c6300b8>"
      ]
     },
     "execution_count": 21,
     "metadata": {},
     "output_type": "execute_result"
    },
    {
     "data": {
      "image/png": "[encoded data removed]",
      "text/plain": [
       "<Figure size 432x288 with 1 Axes>"
      ]
     },
     "metadata": {
      "needs_background": "light"
     },
     "output_type": "display_data"
    }
   ],
   "source": [
    "df_num_corrs = df_num_corrs.abs()\n",
    "print(df_num_corrs.shape)\n",
    "\n",
    "correlations = df_num_corrs.where(\n",
    "    np.triu(np.ones(df_num_corrs.shape), k=1).astype(np.bool)).stack().sort_values(ascending = False)\n",
    "\n",
    "correlations.hist(bins = 100)"
   ]
  },
  {
   "cell_type": "code",
   "execution_count": 22,
   "metadata": {},
   "outputs": [
    {
     "name": "stdout",
     "output_type": "stream",
     "text": [
      "8 variables dropped\n",
      "12 variables left\n"
     ]
    }
   ],
   "source": [
    "to_drop_num = []\n",
    "log = []\n",
    "for i in correlations[correlations > 0.7].index:\n",
    "    v1 = i[0]\n",
    "    v2 = i[1]\n",
    "    \n",
    "    if v1 in to_drop_num or v2 in to_drop_num:\n",
    "        continue\n",
    "        \n",
    "    if df_vars_ginis[df_vars_ginis['vars'] == v1].gini.values > df_vars_ginis[df_vars_ginis['vars'] == v2].gini.values:\n",
    "        var_to_drop = v2\n",
    "    else:\n",
    "        var_to_drop = v1\n",
    "        \n",
    "    var_to_leave = v2 if(v1 == var_to_drop) else v1\n",
    "    \n",
    "    log.append([var_to_drop, var_to_leave, correlations[i]])\n",
    "    to_drop_num.append(var_to_drop)\n",
    "\n",
    "print(len(to_drop_num), 'variables dropped')\n",
    "variables2 = [i for i in numeric_vars if i not in to_drop_num]\n",
    "print(len(variables2), 'variables left')"
   ]
  },
  {
   "cell_type": "code",
   "execution_count": 23,
   "metadata": {},
   "outputs": [
    {
     "name": "stdout",
     "output_type": "stream",
     "text": [
      "(30000, 16)\n"
     ]
    }
   ],
   "source": [
    "data.drop(to_drop_cat, axis = 1, inplace = True)\n",
    "data.drop(to_drop_num, axis = 1, inplace = True)\n",
    "print(data.shape)"
   ]
  },
  {
   "cell_type": "code",
   "execution_count": 24,
   "metadata": {},
   "outputs": [
    {
     "name": "stdout",
     "output_type": "stream",
     "text": [
      "categorical:  ['SEX', 'EDUCATION', 'MARRIAGE', 'target'] \n",
      "\n",
      "numerical:  ['LIMIT_BAL', 'AGE', 'PAY_0', 'PAY_2', 'PAY_6', 'BILL_AMT5', 'PAY_AMT1', 'PAY_AMT2', 'PAY_AMT3', 'PAY_AMT4', 'PAY_AMT5', 'PAY_AMT6']\n"
     ]
    }
   ],
   "source": [
    "categorical_vars1 = []\n",
    "numeric_vars1 = []\n",
    "\n",
    "for col in data.columns:\n",
    "    if data[col].nunique() < 4 or data[col].dtypes == 'O':\n",
    "        categorical_vars1.append(col)\n",
    "    else:\n",
    "        numeric_vars1.append(col)\n",
    "        \n",
    "print('categorical: ', categorical_vars1, '\\n')\n",
    "print('numerical: ', numeric_vars1)\n"
   ]
  },
  {
   "cell_type": "code",
   "execution_count": 25,
   "metadata": {},
   "outputs": [
    {
     "name": "stdout",
     "output_type": "stream",
     "text": [
      "[INFO] filtering variables ...\n",
      "         EDUCATION  target\n",
      "0         bachelor       1\n",
      "1         bachelor       1\n",
      "2         bachelor       0\n",
      "3         bachelor       0\n",
      "4         bachelor       0\n",
      "...            ...     ...\n",
      "29995  high school       0\n",
      "29996  high school       0\n",
      "29997     bachelor       1\n",
      "29998  high school       1\n",
      "29999     bachelor       1\n",
      "\n",
      "[30000 rows x 2 columns]\n"
     ]
    }
   ],
   "source": [
    "dt_s =sc.var_filter(data[categorical_vars1], y = 'target')\n",
    "dt_s.replace(-9999, NaN, inplace = True)\n",
    "#dt_s.replace(NaN, '-9999', inplace = True)\n",
    "print(dt_s)"
   ]
  },
  {
   "cell_type": "code",
   "execution_count": 26,
   "metadata": {},
   "outputs": [
    {
     "name": "stdout",
     "output_type": "stream",
     "text": [
      "[INFO] creating woe binning ...\n"
     ]
    }
   ],
   "source": [
    "bins = sc.woebin(dt_s, y='target', x=['EDUCATION'])\n",
    "#breaks_adj = sc.woebin_adj(dt_s, 'target', bins)"
   ]
  },
  {
   "cell_type": "code",
   "execution_count": 27,
   "metadata": {},
   "outputs": [
    {
     "data": {
      "text/plain": [
       "array(['bachelor', 'graduate school', 'high school', 'magistracy',\n",
       "       'college', 'doctoral studies', nan], dtype=object)"
      ]
     },
     "execution_count": 27,
     "metadata": {},
     "output_type": "execute_result"
    }
   ],
   "source": [
    "dt_s['EDUCATION'].unique()"
   ]
  },
  {
   "cell_type": "code",
   "execution_count": 28,
   "metadata": {},
   "outputs": [
    {
     "data": {
      "text/plain": [
       "array([1, 0])"
      ]
     },
     "execution_count": 28,
     "metadata": {},
     "output_type": "execute_result"
    }
   ],
   "source": [
    "dt_s['target'].unique()"
   ]
  },
  {
   "cell_type": "code",
   "execution_count": 29,
   "metadata": {},
   "outputs": [
    {
     "data": {
      "text/plain": [
       "{'EDUCATION':     variable                                                bin  count  \\\n",
       " 0  EDUCATION                                            missing     14   \n",
       " 1  EDUCATION  college%,%magistracy%,%doctoral studies%,%grad...  11039   \n",
       " 2  EDUCATION                                           bachelor  14030   \n",
       " 3  EDUCATION                                        high school   4917   \n",
       " \n",
       "    count_distr   good   bad   badprob       woe    bin_iv  total_iv  \\\n",
       " 0     0.000467     14     0  0.000000 -1.485866  0.000689  0.024578   \n",
       " 1     0.367967   8970  2069  0.187426 -0.208269  0.015033  0.024578   \n",
       " 2     0.467667  10700  3330  0.237349  0.091280  0.003995  0.024578   \n",
       " 3     0.163900   3680  1237  0.251576  0.168328  0.004860  0.024578   \n",
       " \n",
       "                                               breaks  is_special_values  \n",
       " 0                                            missing               True  \n",
       " 1  college%,%magistracy%,%doctoral studies%,%grad...              False  \n",
       " 2                                           bachelor              False  \n",
       " 3                                        high school              False  }"
      ]
     },
     "execution_count": 29,
     "metadata": {},
     "output_type": "execute_result"
    }
   ],
   "source": [
    "bins"
   ]
  },
  {
   "cell_type": "code",
   "execution_count": 30,
   "metadata": {},
   "outputs": [
    {
     "name": "stdout",
     "output_type": "stream",
     "text": [
      "[INFO] converting into woe values ...\n"
     ]
    }
   ],
   "source": [
    "dt_s_woe = sc.woebin_ply(dt_s, bins)\n",
    "dt_s_woe.drop(columns=['target'], inplace = True)"
   ]
  },
  {
   "cell_type": "code",
   "execution_count": 31,
   "metadata": {},
   "outputs": [
    {
     "data": {
      "text/html": [
       "<div>\n",
       "<style scoped>\n",
       "    .dataframe tbody tr th:only-of-type {\n",
       "        vertical-align: middle;\n",
       "    }\n",
       "\n",
       "    .dataframe tbody tr th {\n",
       "        vertical-align: top;\n",
       "    }\n",
       "\n",
       "    .dataframe thead th {\n",
       "        text-align: right;\n",
       "    }\n",
       "</style>\n",
       "<table border=\"1\" class=\"dataframe\">\n",
       "  <thead>\n",
       "    <tr style=\"text-align: right;\">\n",
       "      <th></th>\n",
       "      <th>LIMIT_BAL</th>\n",
       "      <th>SEX</th>\n",
       "      <th>EDUCATION</th>\n",
       "      <th>MARRIAGE</th>\n",
       "      <th>AGE</th>\n",
       "      <th>PAY_0</th>\n",
       "      <th>PAY_2</th>\n",
       "      <th>PAY_6</th>\n",
       "      <th>BILL_AMT5</th>\n",
       "      <th>PAY_AMT1</th>\n",
       "      <th>PAY_AMT2</th>\n",
       "      <th>PAY_AMT3</th>\n",
       "      <th>PAY_AMT4</th>\n",
       "      <th>PAY_AMT5</th>\n",
       "      <th>PAY_AMT6</th>\n",
       "      <th>target</th>\n",
       "      <th>EDUCATION_woe</th>\n",
       "    </tr>\n",
       "  </thead>\n",
       "  <tbody>\n",
       "    <tr>\n",
       "      <th>0</th>\n",
       "      <td>20000</td>\n",
       "      <td>female</td>\n",
       "      <td>bachelor</td>\n",
       "      <td>married</td>\n",
       "      <td>24</td>\n",
       "      <td>2</td>\n",
       "      <td>2</td>\n",
       "      <td>-2</td>\n",
       "      <td>0</td>\n",
       "      <td>0</td>\n",
       "      <td>689</td>\n",
       "      <td>0</td>\n",
       "      <td>0</td>\n",
       "      <td>0</td>\n",
       "      <td>0</td>\n",
       "      <td>1</td>\n",
       "      <td>0.09128</td>\n",
       "    </tr>\n",
       "    <tr>\n",
       "      <th>1</th>\n",
       "      <td>120000</td>\n",
       "      <td>female</td>\n",
       "      <td>bachelor</td>\n",
       "      <td>single</td>\n",
       "      <td>26</td>\n",
       "      <td>-1</td>\n",
       "      <td>2</td>\n",
       "      <td>2</td>\n",
       "      <td>3455</td>\n",
       "      <td>0</td>\n",
       "      <td>1000</td>\n",
       "      <td>1000</td>\n",
       "      <td>1000</td>\n",
       "      <td>0</td>\n",
       "      <td>2000</td>\n",
       "      <td>1</td>\n",
       "      <td>0.09128</td>\n",
       "    </tr>\n",
       "    <tr>\n",
       "      <th>2</th>\n",
       "      <td>90000</td>\n",
       "      <td>female</td>\n",
       "      <td>bachelor</td>\n",
       "      <td>single</td>\n",
       "      <td>34</td>\n",
       "      <td>0</td>\n",
       "      <td>0</td>\n",
       "      <td>0</td>\n",
       "      <td>14948</td>\n",
       "      <td>1518</td>\n",
       "      <td>1500</td>\n",
       "      <td>1000</td>\n",
       "      <td>1000</td>\n",
       "      <td>1000</td>\n",
       "      <td>5000</td>\n",
       "      <td>0</td>\n",
       "      <td>0.09128</td>\n",
       "    </tr>\n",
       "    <tr>\n",
       "      <th>3</th>\n",
       "      <td>50000</td>\n",
       "      <td>female</td>\n",
       "      <td>bachelor</td>\n",
       "      <td>married</td>\n",
       "      <td>37</td>\n",
       "      <td>0</td>\n",
       "      <td>0</td>\n",
       "      <td>0</td>\n",
       "      <td>28959</td>\n",
       "      <td>2000</td>\n",
       "      <td>2019</td>\n",
       "      <td>1200</td>\n",
       "      <td>1100</td>\n",
       "      <td>1069</td>\n",
       "      <td>1000</td>\n",
       "      <td>0</td>\n",
       "      <td>0.09128</td>\n",
       "    </tr>\n",
       "    <tr>\n",
       "      <th>4</th>\n",
       "      <td>50000</td>\n",
       "      <td>male</td>\n",
       "      <td>bachelor</td>\n",
       "      <td>married</td>\n",
       "      <td>57</td>\n",
       "      <td>-1</td>\n",
       "      <td>0</td>\n",
       "      <td>0</td>\n",
       "      <td>19146</td>\n",
       "      <td>2000</td>\n",
       "      <td>36681</td>\n",
       "      <td>10000</td>\n",
       "      <td>9000</td>\n",
       "      <td>689</td>\n",
       "      <td>679</td>\n",
       "      <td>0</td>\n",
       "      <td>0.09128</td>\n",
       "    </tr>\n",
       "  </tbody>\n",
       "</table>\n",
       "</div>"
      ],
      "text/plain": [
       "   LIMIT_BAL     SEX EDUCATION MARRIAGE  AGE  PAY_0  PAY_2  PAY_6  BILL_AMT5  \\\n",
       "0      20000  female  bachelor  married   24      2      2     -2          0   \n",
       "1     120000  female  bachelor   single   26     -1      2      2       3455   \n",
       "2      90000  female  bachelor   single   34      0      0      0      14948   \n",
       "3      50000  female  bachelor  married   37      0      0      0      28959   \n",
       "4      50000    male  bachelor  married   57     -1      0      0      19146   \n",
       "\n",
       "   PAY_AMT1  PAY_AMT2  PAY_AMT3  PAY_AMT4  PAY_AMT5  PAY_AMT6  target  \\\n",
       "0         0       689         0         0         0         0       1   \n",
       "1         0      1000      1000      1000         0      2000       1   \n",
       "2      1518      1500      1000      1000      1000      5000       0   \n",
       "3      2000      2019      1200      1100      1069      1000       0   \n",
       "4      2000     36681     10000      9000       689       679       0   \n",
       "\n",
       "   EDUCATION_woe  \n",
       "0        0.09128  \n",
       "1        0.09128  \n",
       "2        0.09128  \n",
       "3        0.09128  \n",
       "4        0.09128  "
      ]
     },
     "execution_count": 31,
     "metadata": {},
     "output_type": "execute_result"
    }
   ],
   "source": [
    "data2=pd.concat([data, dt_s_woe], axis = 1)\n",
    "data2.head(5)"
   ]
  },
  {
   "cell_type": "code",
   "execution_count": 32,
   "metadata": {},
   "outputs": [
    {
     "data": {
      "text/plain": [
       "['LIMIT_BAL',\n",
       " 'SEX',\n",
       " 'EDUCATION',\n",
       " 'MARRIAGE',\n",
       " 'AGE',\n",
       " 'PAY_0',\n",
       " 'PAY_2',\n",
       " 'PAY_6',\n",
       " 'BILL_AMT5',\n",
       " 'PAY_AMT1',\n",
       " 'PAY_AMT2',\n",
       " 'PAY_AMT3',\n",
       " 'PAY_AMT4',\n",
       " 'PAY_AMT5',\n",
       " 'PAY_AMT6',\n",
       " 'target',\n",
       " 'EDUCATION_woe']"
      ]
     },
     "execution_count": 32,
     "metadata": {},
     "output_type": "execute_result"
    }
   ],
   "source": [
    "list(data2.columns)"
   ]
  },
  {
   "cell_type": "code",
   "execution_count": 33,
   "metadata": {},
   "outputs": [
    {
     "data": {
      "text/plain": [
       "array([ 0.09127995, -0.20826889,  0.16832773, -1.48586646])"
      ]
     },
     "execution_count": 33,
     "metadata": {},
     "output_type": "execute_result"
    }
   ],
   "source": [
    "data2['EDUCATION_woe'].unique()"
   ]
  },
  {
   "cell_type": "code",
   "execution_count": 34,
   "metadata": {},
   "outputs": [],
   "source": [
    "data2.drop(columns=['MARRIAGE', 'SEX'], inplace = True)"
   ]
  },
  {
   "cell_type": "code",
   "execution_count": 35,
   "metadata": {},
   "outputs": [],
   "source": [
    "data2.drop(columns=['EDUCATION'], inplace = True)"
   ]
  },
  {
   "cell_type": "code",
   "execution_count": 36,
   "metadata": {},
   "outputs": [],
   "source": [
    "all_x_variables = data2.columns.difference(['target']).tolist()\n",
    "X = data2[all_x_variables]\n",
    "y = data2['target']"
   ]
  },
  {
   "cell_type": "code",
   "execution_count": 37,
   "metadata": {},
   "outputs": [
    {
     "name": "stdout",
     "output_type": "stream",
     "text": [
      "['LIMIT_BAL', 'AGE', 'PAY_0', 'PAY_2', 'PAY_6', 'BILL_AMT5', 'PAY_AMT1', 'PAY_AMT2', 'PAY_AMT3', 'PAY_AMT4', 'PAY_AMT5', 'PAY_AMT6', 'EDUCATION_woe']\n",
      "(22500, 13) (7500, 13)\n",
      "0.2212 0.2212\n"
     ]
    }
   ],
   "source": [
    "print([i for i in data2 if i!='target'])\n",
    "\n",
    "X_train, X_test, y_train, y_test = train_test_split(X, y,\n",
    "                                                    #stratify = y,\n",
    "                                                   random_state = 2,\n",
    "                                                   test_size = 0.25)\n",
    "\n",
    "print(X_train.shape, X_test.shape)\n",
    "print(y_train.mean(), y_test.mean())"
   ]
  },
  {
   "cell_type": "code",
   "execution_count": 38,
   "metadata": {},
   "outputs": [
    {
     "data": {
      "text/plain": [
       "Index(['AGE', 'BILL_AMT5', 'EDUCATION_woe', 'LIMIT_BAL', 'PAY_0', 'PAY_2',\n",
       "       'PAY_6', 'PAY_AMT1', 'PAY_AMT2', 'PAY_AMT3', 'PAY_AMT4', 'PAY_AMT5',\n",
       "       'PAY_AMT6'],\n",
       "      dtype='object')"
      ]
     },
     "execution_count": 38,
     "metadata": {},
     "output_type": "execute_result"
    }
   ],
   "source": [
    "X.columns"
   ]
  },
  {
   "cell_type": "code",
   "execution_count": 39,
   "metadata": {},
   "outputs": [
    {
     "name": "stdout",
     "output_type": "stream",
     "text": [
      "100%|██████████| 10/10 [00:15<00:00,  1.70s/trial, best loss: -0.5638460802588672]\n"
     ]
    },
    {
     "data": {
      "text/plain": [
       "{'learning_rate': 0.06,\n",
       " 'max_depth': 3.0,\n",
       " 'min_child_weight': 0,\n",
       " 'n_estimators': 129,\n",
       " 'subsample': 0.8503343780660759}"
      ]
     },
     "execution_count": 39,
     "metadata": {},
     "output_type": "execute_result"
    }
   ],
   "source": [
    "def score(params):\n",
    "    params['n_estimators'] = int(params['n_estimators'])\n",
    "    params['max_depth'] = int(params['max_depth'])\n",
    "    XGB = XGBClassifier(**params)\n",
    "    XGB.fit(X_train[X.columns], y_train)\n",
    "    tr_loss = 1-roc_auc_score(y_train, XGB.predict_proba(X_train[X.columns])[:,1])*2\n",
    "    te_loss = 1-roc_auc_score(y_test, XGB.predict_proba(X_test[X.columns])[:,1])*2\n",
    "    return{'loss':te_loss, 'status':STATUS_OK, 'tr_loss':tr_loss}\n",
    "\n",
    "short_trials_xgb = Trials()\n",
    "space = {\n",
    "    'learning_rate': hp.quniform('learning_rate', 0.025, 0.1, 0.005),\n",
    "    'max_depth' : hp.quniform('max_depth', 2, 3, 1),\n",
    "    'n_estimators' : hp.choice('n_estimators', range(100, 301)),\n",
    "    'min_child_weight' : hp.choice('min_child_weight', [0.005, 0.1, 0.15, 0.2]),\n",
    "    'subsample' : hp.uniform('subsample', 0.5, 1)\n",
    "}\n",
    "\n",
    "fmin(score, space, algo = tpe.suggest, trials = short_trials_xgb, max_evals = 10)"
   ]
  },
  {
   "cell_type": "code",
   "execution_count": 40,
   "metadata": {},
   "outputs": [
    {
     "ename": "NameError",
     "evalue": "name 'xgbc' is not defined",
     "output_type": "error",
     "traceback": [
      "\u001b[0;31m---------------------------------------------------------------------------\u001b[0m",
      "\u001b[0;31mNameError\u001b[0m                                 Traceback (most recent call last)",
      "\u001b[0;32m<ipython-input-40-93c596e000b2>\u001b[0m in \u001b[0;36m<module>\u001b[0;34m\u001b[0m\n\u001b[0;32m----> 1\u001b[0;31m \u001b[0mxgbc\u001b[0m\u001b[0;34m.\u001b[0m\u001b[0mfeature_importances_\u001b[0m\u001b[0;34m\u001b[0m\u001b[0;34m\u001b[0m\u001b[0m\n\u001b[0m",
      "\u001b[0;31mNameError\u001b[0m: name 'xgbc' is not defined"
     ]
    }
   ],
   "source": [
    "xgbc.feature_importances_"
   ]
  },
  {
   "cell_type": "code",
   "execution_count": 41,
   "metadata": {},
   "outputs": [
    {
     "name": "stdout",
     "output_type": "stream",
     "text": [
      "[0.8596737711615301, 0.5208921490835243]\n",
      "[0.834800798161069, 0.5265265934650185]\n",
      "[0.8295137372826948, 0.5278807424269771]\n",
      "[0.8278497226028754, 0.5255073182556556]\n",
      "[0.8329298394139031, 0.5336274649726698]\n"
     ]
    }
   ],
   "source": [
    "#%%time\n",
    "temp_vars=data2\n",
    "temp_vars = [i for i in temp_vars if i!='target']\n",
    "xgbc=XGBClassifier()\n",
    "res = []\n",
    "while len(temp_vars)>8:\n",
    "    xgbc.fit(X_train[temp_vars], y_train)\n",
    "    train_gini = roc_auc_score(y_train, xgbc.predict_proba(X_train[temp_vars])[:,1])*2-1\n",
    "    test_gini = roc_auc_score(y_test, xgbc.predict_proba(X_test[temp_vars])[:,1])*2-1\n",
    "    res.append([len(temp_vars), train_gini, test_gini])\n",
    "    \n",
    "    imp = pd.Series(dict(zip(temp_vars, xgbc.feature_importances_))).sort_values(ascending=False)\n",
    "    \n",
    "    \n",
    "    temp_vars=[i for i in temp_vars if imp.loc[i]>0]\n",
    "    imp=imp[imp>0]\n",
    "    #print('eto imp')\n",
    "    #print(imp)\n",
    "    temp_vars=[i for i in temp_vars if i in imp[:-1].index.values]\n",
    "#    print(len(temp_vars))\n",
    "    #print(temp_vars)\n",
    "    print([train_gini, test_gini])\n",
    "    \n",
    "xgbc.fit(X_train[temp_vars], y_train)\n",
    "res.append([len(temp_vars),\n",
    "           roc_auc_score(y_train, xgbc.predict_proba(X_train[temp_vars])[:,1])*2-1,\n",
    "           roc_auc_score(y_test, xgbc.predict_proba(X_test[temp_vars])[:,1])*2-1\n",
    "           ])\n"
   ]
  },
  {
   "cell_type": "code",
   "execution_count": 42,
   "metadata": {},
   "outputs": [
    {
     "data": {
      "text/plain": [
       "['LIMIT_BAL',\n",
       " 'PAY_0',\n",
       " 'PAY_2',\n",
       " 'PAY_6',\n",
       " 'PAY_AMT1',\n",
       " 'PAY_AMT2',\n",
       " 'PAY_AMT3',\n",
       " 'PAY_AMT4']"
      ]
     },
     "execution_count": 42,
     "metadata": {},
     "output_type": "execute_result"
    },
    {
     "data": {
      "image/png": "[encoded data removed]",
      "text/plain": [
       "<Figure size 720x720 with 1 Axes>"
      ]
     },
     "metadata": {
      "needs_background": "light"
     },
     "output_type": "display_data"
    }
   ],
   "source": [
    "pylab.rcParams['figure.figsize']=(10,10)\n",
    "plot_importance(xgbc)\n",
    "temp_vars"
   ]
  },
  {
   "cell_type": "code",
   "execution_count": 43,
   "metadata": {},
   "outputs": [
    {
     "data": {
      "text/plain": [
       "{'learning_rate': 0.05,\n",
       " 'max_depth': 3.0,\n",
       " 'min_child_weight': 0,\n",
       " 'n_estimators': 156,\n",
       " 'subsample': 0.6150428682498997}"
      ]
     },
     "execution_count": 43,
     "metadata": {},
     "output_type": "execute_result"
    }
   ],
   "source": [
    "{'learning_rate': 0.05,\n",
    " 'max_depth': 3.0,\n",
    " 'min_child_weight': 0,\n",
    " 'n_estimators': 156,\n",
    " 'subsample': 0.6150428682498997}"
   ]
  },
  {
   "cell_type": "code",
   "execution_count": 44,
   "metadata": {},
   "outputs": [
    {
     "data": {
      "text/plain": [
       "['AGE', 'BILL_AMT5', 'EDUCATION_woe', 'PAY_AMT5', 'PAY_AMT6']"
      ]
     },
     "execution_count": 44,
     "metadata": {},
     "output_type": "execute_result"
    }
   ],
   "source": [
    "candid = list(X_train.columns.difference(temp_vars))\n",
    "\n",
    "candid"
   ]
  },
  {
   "cell_type": "code",
   "execution_count": 45,
   "metadata": {},
   "outputs": [
    {
     "name": "stdout",
     "output_type": "stream",
     "text": [
      "BILL_AMT5 0.559817585134041\n",
      "PAY_AMT6 0.5613741031033457\n",
      "AGE 0.562974789321067\n",
      "EDUCATION_woe 0.5631490887873638\n",
      "PAY_AMT5 0.5613939168970277\n"
     ]
    }
   ],
   "source": [
    "lgbm = lightgbm.LGBMClassifier(learning_rate=0.05, max_depth=3, min_child_weight=0.005, n_estimators=156, subsample=0.6150428682498997)\n",
    "\n",
    "cols = ['LIMIT_BAL',\n",
    " 'PAY_0',\n",
    " 'PAY_2',\n",
    " 'PAY_6',\n",
    " 'PAY_AMT1',\n",
    " 'PAY_AMT2',\n",
    " 'PAY_AMT3',\n",
    " 'PAY_AMT4']\n",
    "\n",
    "candid = list(X_train.columns.difference(temp_vars))\n",
    "res = []\n",
    "while len(candid)>0:\n",
    "    temp_ginis = []\n",
    "    for i in candid:\n",
    "        lgbm.fit(X_train[cols+[i]], y_train)\n",
    "        Proba_test = lgbm.predict_proba(X_test[cols+[i]])[:,1]\n",
    "        temp_ginis.append(roc_auc_score(y_test, Proba_test)*2-1)\n",
    "    best_candid = candid[np.argmax(temp_ginis)]\n",
    "    best_gini = np.max(temp_ginis)\n",
    "    print(best_candid, best_gini)\n",
    "    res.append({'variable':best_candid, 'test_gini':best_gini})\n",
    "    cols.append(best_candid)\n",
    "    candid = [i for i in candid if i!=best_candid]\n",
    "    #print('eto',candid)"
   ]
  },
  {
   "cell_type": "code",
   "execution_count": 46,
   "metadata": {},
   "outputs": [
    {
     "data": {
      "text/plain": [
       "<matplotlib.axes._subplots.AxesSubplot at 0x1c2c5dd2b0>"
      ]
     },
     "execution_count": 46,
     "metadata": {},
     "output_type": "execute_result"
    },
    {
     "data": {
      "image/png": "[encoded data removed]",
      "text/plain": [
       "<Figure size 1440x720 with 1 Axes>"
      ]
     },
     "metadata": {
      "needs_background": "light"
     },
     "output_type": "display_data"
    }
   ],
   "source": [
    "forw = pd.DataFrame([{'variable':'shortlist','test_gini':0.5336274649726698}]+res)\n",
    "forw.index=forw.variable\n",
    "forw.test_gini.plot(rot=90, figsize=(20,10), xticks=np.arange(len(forw)))"
   ]
  },
  {
   "cell_type": "code",
   "execution_count": 47,
   "metadata": {},
   "outputs": [],
   "source": [
    "dat = ['LIMIT_BAL',\n",
    " 'PAY_0',\n",
    " 'PAY_2',\n",
    " 'PAY_6',\n",
    " 'PAY_AMT1',\n",
    " 'PAY_AMT2',\n",
    " 'PAY_AMT3',\n",
    " 'PAY_AMT4',\n",
    "        'BILL_AMT5',\n",
    "'PAY_AMT6' ,\n",
    "'AGE',\n",
    "'PAY_AMT5' ,\n",
    "        'EDUCATION_woe',\n",
    "      'target']"
   ]
  },
  {
   "cell_type": "code",
   "execution_count": 48,
   "metadata": {},
   "outputs": [
    {
     "name": "stdout",
     "output_type": "stream",
     "text": [
      "[INFO] filtering variables ...\n",
      "Variable filtering on 30000 rows and 14 columns in 00:01:08 \n",
      "0 variables are removed\n"
     ]
    }
   ],
   "source": [
    "datt = data2[dat]\n",
    "dt_sdatvar = sc.var_filter(datt, y=\"target\")"
   ]
  },
  {
   "cell_type": "code",
   "execution_count": 49,
   "metadata": {},
   "outputs": [
    {
     "data": {
      "text/plain": [
       "['PAY_0',\n",
       " 'AGE',\n",
       " 'PAY_AMT4',\n",
       " 'PAY_AMT3',\n",
       " 'PAY_6',\n",
       " 'PAY_2',\n",
       " 'PAY_AMT6',\n",
       " 'PAY_AMT5',\n",
       " 'LIMIT_BAL',\n",
       " 'PAY_AMT1',\n",
       " 'EDUCATION_woe',\n",
       " 'BILL_AMT5',\n",
       " 'PAY_AMT2',\n",
       " 'target']"
      ]
     },
     "execution_count": 49,
     "metadata": {},
     "output_type": "execute_result"
    }
   ],
   "source": [
    "list(dt_sdatvar.columns)"
   ]
  },
  {
   "cell_type": "code",
   "execution_count": 50,
   "metadata": {},
   "outputs": [],
   "source": [
    "dt_sdatvar.fillna(-9999, inplace=True)"
   ]
  },
  {
   "cell_type": "code",
   "execution_count": 51,
   "metadata": {},
   "outputs": [
    {
     "data": {
      "text/html": [
       "<div>\n",
       "<style scoped>\n",
       "    .dataframe tbody tr th:only-of-type {\n",
       "        vertical-align: middle;\n",
       "    }\n",
       "\n",
       "    .dataframe tbody tr th {\n",
       "        vertical-align: top;\n",
       "    }\n",
       "\n",
       "    .dataframe thead th {\n",
       "        text-align: right;\n",
       "    }\n",
       "</style>\n",
       "<table border=\"1\" class=\"dataframe\">\n",
       "  <thead>\n",
       "    <tr style=\"text-align: right;\">\n",
       "      <th></th>\n",
       "      <th>PAY_0</th>\n",
       "      <th>AGE</th>\n",
       "      <th>PAY_AMT4</th>\n",
       "      <th>PAY_AMT3</th>\n",
       "      <th>PAY_6</th>\n",
       "      <th>PAY_2</th>\n",
       "      <th>PAY_AMT6</th>\n",
       "      <th>PAY_AMT5</th>\n",
       "      <th>LIMIT_BAL</th>\n",
       "      <th>PAY_AMT1</th>\n",
       "      <th>EDUCATION_woe</th>\n",
       "      <th>BILL_AMT5</th>\n",
       "      <th>PAY_AMT2</th>\n",
       "      <th>target</th>\n",
       "    </tr>\n",
       "  </thead>\n",
       "  <tbody>\n",
       "    <tr>\n",
       "      <th>0</th>\n",
       "      <td>2</td>\n",
       "      <td>24</td>\n",
       "      <td>0</td>\n",
       "      <td>0</td>\n",
       "      <td>-2</td>\n",
       "      <td>2</td>\n",
       "      <td>0</td>\n",
       "      <td>0</td>\n",
       "      <td>20000</td>\n",
       "      <td>0</td>\n",
       "      <td>0.091280</td>\n",
       "      <td>0</td>\n",
       "      <td>689</td>\n",
       "      <td>1</td>\n",
       "    </tr>\n",
       "    <tr>\n",
       "      <th>1</th>\n",
       "      <td>-1</td>\n",
       "      <td>26</td>\n",
       "      <td>1000</td>\n",
       "      <td>1000</td>\n",
       "      <td>2</td>\n",
       "      <td>2</td>\n",
       "      <td>2000</td>\n",
       "      <td>0</td>\n",
       "      <td>120000</td>\n",
       "      <td>0</td>\n",
       "      <td>0.091280</td>\n",
       "      <td>3455</td>\n",
       "      <td>1000</td>\n",
       "      <td>1</td>\n",
       "    </tr>\n",
       "    <tr>\n",
       "      <th>2</th>\n",
       "      <td>0</td>\n",
       "      <td>34</td>\n",
       "      <td>1000</td>\n",
       "      <td>1000</td>\n",
       "      <td>0</td>\n",
       "      <td>0</td>\n",
       "      <td>5000</td>\n",
       "      <td>1000</td>\n",
       "      <td>90000</td>\n",
       "      <td>1518</td>\n",
       "      <td>0.091280</td>\n",
       "      <td>14948</td>\n",
       "      <td>1500</td>\n",
       "      <td>0</td>\n",
       "    </tr>\n",
       "    <tr>\n",
       "      <th>3</th>\n",
       "      <td>0</td>\n",
       "      <td>37</td>\n",
       "      <td>1100</td>\n",
       "      <td>1200</td>\n",
       "      <td>0</td>\n",
       "      <td>0</td>\n",
       "      <td>1000</td>\n",
       "      <td>1069</td>\n",
       "      <td>50000</td>\n",
       "      <td>2000</td>\n",
       "      <td>0.091280</td>\n",
       "      <td>28959</td>\n",
       "      <td>2019</td>\n",
       "      <td>0</td>\n",
       "    </tr>\n",
       "    <tr>\n",
       "      <th>4</th>\n",
       "      <td>-1</td>\n",
       "      <td>57</td>\n",
       "      <td>9000</td>\n",
       "      <td>10000</td>\n",
       "      <td>0</td>\n",
       "      <td>0</td>\n",
       "      <td>679</td>\n",
       "      <td>689</td>\n",
       "      <td>50000</td>\n",
       "      <td>2000</td>\n",
       "      <td>0.091280</td>\n",
       "      <td>19146</td>\n",
       "      <td>36681</td>\n",
       "      <td>0</td>\n",
       "    </tr>\n",
       "    <tr>\n",
       "      <th>...</th>\n",
       "      <td>...</td>\n",
       "      <td>...</td>\n",
       "      <td>...</td>\n",
       "      <td>...</td>\n",
       "      <td>...</td>\n",
       "      <td>...</td>\n",
       "      <td>...</td>\n",
       "      <td>...</td>\n",
       "      <td>...</td>\n",
       "      <td>...</td>\n",
       "      <td>...</td>\n",
       "      <td>...</td>\n",
       "      <td>...</td>\n",
       "      <td>...</td>\n",
       "    </tr>\n",
       "    <tr>\n",
       "      <th>29995</th>\n",
       "      <td>0</td>\n",
       "      <td>39</td>\n",
       "      <td>3047</td>\n",
       "      <td>5003</td>\n",
       "      <td>0</td>\n",
       "      <td>0</td>\n",
       "      <td>1000</td>\n",
       "      <td>5000</td>\n",
       "      <td>220000</td>\n",
       "      <td>8500</td>\n",
       "      <td>0.168328</td>\n",
       "      <td>31237</td>\n",
       "      <td>20000</td>\n",
       "      <td>0</td>\n",
       "    </tr>\n",
       "    <tr>\n",
       "      <th>29996</th>\n",
       "      <td>-1</td>\n",
       "      <td>43</td>\n",
       "      <td>129</td>\n",
       "      <td>8998</td>\n",
       "      <td>0</td>\n",
       "      <td>-1</td>\n",
       "      <td>0</td>\n",
       "      <td>0</td>\n",
       "      <td>150000</td>\n",
       "      <td>1837</td>\n",
       "      <td>0.168328</td>\n",
       "      <td>5190</td>\n",
       "      <td>3526</td>\n",
       "      <td>0</td>\n",
       "    </tr>\n",
       "    <tr>\n",
       "      <th>29997</th>\n",
       "      <td>4</td>\n",
       "      <td>37</td>\n",
       "      <td>4200</td>\n",
       "      <td>22000</td>\n",
       "      <td>0</td>\n",
       "      <td>3</td>\n",
       "      <td>3100</td>\n",
       "      <td>2000</td>\n",
       "      <td>30000</td>\n",
       "      <td>0</td>\n",
       "      <td>0.091280</td>\n",
       "      <td>20582</td>\n",
       "      <td>0</td>\n",
       "      <td>1</td>\n",
       "    </tr>\n",
       "    <tr>\n",
       "      <th>29998</th>\n",
       "      <td>1</td>\n",
       "      <td>41</td>\n",
       "      <td>1926</td>\n",
       "      <td>1178</td>\n",
       "      <td>-1</td>\n",
       "      <td>-1</td>\n",
       "      <td>1804</td>\n",
       "      <td>52964</td>\n",
       "      <td>80000</td>\n",
       "      <td>85900</td>\n",
       "      <td>0.168328</td>\n",
       "      <td>11855</td>\n",
       "      <td>3409</td>\n",
       "      <td>1</td>\n",
       "    </tr>\n",
       "    <tr>\n",
       "      <th>29999</th>\n",
       "      <td>0</td>\n",
       "      <td>46</td>\n",
       "      <td>1000</td>\n",
       "      <td>1430</td>\n",
       "      <td>0</td>\n",
       "      <td>0</td>\n",
       "      <td>1000</td>\n",
       "      <td>1000</td>\n",
       "      <td>50000</td>\n",
       "      <td>2078</td>\n",
       "      <td>0.091280</td>\n",
       "      <td>32428</td>\n",
       "      <td>1800</td>\n",
       "      <td>1</td>\n",
       "    </tr>\n",
       "  </tbody>\n",
       "</table>\n",
       "<p>30000 rows × 14 columns</p>\n",
       "</div>"
      ],
      "text/plain": [
       "       PAY_0  AGE  PAY_AMT4  PAY_AMT3  PAY_6  PAY_2  PAY_AMT6  PAY_AMT5  \\\n",
       "0          2   24         0         0     -2      2         0         0   \n",
       "1         -1   26      1000      1000      2      2      2000         0   \n",
       "2          0   34      1000      1000      0      0      5000      1000   \n",
       "3          0   37      1100      1200      0      0      1000      1069   \n",
       "4         -1   57      9000     10000      0      0       679       689   \n",
       "...      ...  ...       ...       ...    ...    ...       ...       ...   \n",
       "29995      0   39      3047      5003      0      0      1000      5000   \n",
       "29996     -1   43       129      8998      0     -1         0         0   \n",
       "29997      4   37      4200     22000      0      3      3100      2000   \n",
       "29998      1   41      1926      1178     -1     -1      1804     52964   \n",
       "29999      0   46      1000      1430      0      0      1000      1000   \n",
       "\n",
       "       LIMIT_BAL  PAY_AMT1  EDUCATION_woe  BILL_AMT5  PAY_AMT2  target  \n",
       "0          20000         0       0.091280          0       689       1  \n",
       "1         120000         0       0.091280       3455      1000       1  \n",
       "2          90000      1518       0.091280      14948      1500       0  \n",
       "3          50000      2000       0.091280      28959      2019       0  \n",
       "4          50000      2000       0.091280      19146     36681       0  \n",
       "...          ...       ...            ...        ...       ...     ...  \n",
       "29995     220000      8500       0.168328      31237     20000       0  \n",
       "29996     150000      1837       0.168328       5190      3526       0  \n",
       "29997      30000         0       0.091280      20582         0       1  \n",
       "29998      80000     85900       0.168328      11855      3409       1  \n",
       "29999      50000      2078       0.091280      32428      1800       1  \n",
       "\n",
       "[30000 rows x 14 columns]"
      ]
     },
     "execution_count": 51,
     "metadata": {},
     "output_type": "execute_result"
    }
   ],
   "source": [
    "dt_sdatvar"
   ]
  },
  {
   "cell_type": "code",
   "execution_count": 54,
   "metadata": {},
   "outputs": [
    {
     "name": "stdout",
     "output_type": "stream",
     "text": [
      "[INFO] creating woe binning ...\n",
      "Binning on 30000 rows and 14 columns in 00:00:11\n",
      "-------- 1/9 AGE --------\n",
      ">>> dt[AGE].describe(): \n",
      "count    30000.000000\n",
      "mean        35.485500\n",
      "std          9.217904\n",
      "min         21.000000\n",
      "25%         28.000000\n",
      "50%         34.000000\n",
      "75%         41.000000\n",
      "max         79.000000\n",
      "Name: AGE, dtype: float64 \n",
      "\n"
     ]
    },
    {
     "data": {
      "image/png": "[encoded data removed]",
      "text/plain": [
       "<Figure size 720x720 with 1 Axes>"
      ]
     },
     "metadata": {
      "needs_background": "light"
     },
     "output_type": "display_data"
    },
    {
     "name": "stdout",
     "output_type": "stream",
     "text": [
      ">>> Current breaks:\n",
      "26.0,29.0,36.0,46.0 \n",
      "\n"
     ]
    },
    {
     "data": {
      "image/png": "[encoded data removed]",
      "text/plain": [
       "<Figure size 720x720 with 2 Axes>"
      ]
     },
     "metadata": {
      "needs_background": "light"
     },
     "output_type": "display_data"
    },
    {
     "name": "stdout",
     "output_type": "stream",
     "text": [
      ">>> Adjust breaks for (1/9) AGE?\n",
      "1: next \n",
      "2: yes \n",
      "3: back\n"
     ]
    },
    {
     "name": "stdin",
     "output_type": "stream",
     "text": [
      "Selection:  1\n"
     ]
    },
    {
     "name": "stdout",
     "output_type": "stream",
     "text": [
      "-------- 2/9 BILL_AMT5 --------\n",
      ">>> dt[BILL_AMT5].describe(): \n",
      "count     30000.000000\n",
      "mean      40311.400967\n",
      "std       60797.155770\n",
      "min      -81334.000000\n",
      "25%        1763.000000\n",
      "50%       18104.500000\n",
      "75%       50190.500000\n",
      "max      927171.000000\n",
      "Name: BILL_AMT5, dtype: float64 \n",
      "\n"
     ]
    },
    {
     "data": {
      "image/png": "[encoded data removed]",
      "text/plain": [
       "<Figure size 720x720 with 1 Axes>"
      ]
     },
     "metadata": {
      "needs_background": "light"
     },
     "output_type": "display_data"
    },
    {
     "name": "stdout",
     "output_type": "stream",
     "text": [
      ">>> Current breaks:\n",
      "15000.0,50000.0,165000.0 \n",
      "\n"
     ]
    },
    {
     "data": {
      "image/png": "[encoded data removed]",
      "text/plain": [
       "<Figure size 720x720 with 2 Axes>"
      ]
     },
     "metadata": {
      "needs_background": "light"
     },
     "output_type": "display_data"
    },
    {
     "name": "stdout",
     "output_type": "stream",
     "text": [
      ">>> Adjust breaks for (2/9) BILL_AMT5?\n",
      "1: next \n",
      "2: yes \n",
      "3: back\n"
     ]
    },
    {
     "name": "stdin",
     "output_type": "stream",
     "text": [
      "Selection:  1\n"
     ]
    },
    {
     "name": "stdout",
     "output_type": "stream",
     "text": [
      "-------- 3/9 EDUCATION_woe --------\n",
      ">>> dt[EDUCATION_woe].describe(): \n",
      "count    30000.000000\n",
      "mean        -0.007052\n",
      "std          0.159634\n",
      "min         -1.485866\n",
      "25%         -0.208269\n",
      "50%          0.091280\n",
      "75%          0.091280\n",
      "max          0.168328\n",
      "Name: EDUCATION_woe, dtype: float64 \n",
      "\n",
      ">>> dt[EDUCATION_woe].value_counts(): \n",
      " 0.091280    14030\n",
      "-0.208269    11039\n",
      " 0.168328     4917\n",
      "-1.485866       14\n",
      "Name: EDUCATION_woe, dtype: int64 \n",
      "\n",
      ">>> Current breaks:\n",
      "0.09127995170064153,0.16832773040566085 \n",
      "\n"
     ]
    },
    {
     "data": {
      "image/png": "[encoded data removed]",
      "text/plain": [
       "<Figure size 720x720 with 2 Axes>"
      ]
     },
     "metadata": {
      "needs_background": "light"
     },
     "output_type": "display_data"
    },
    {
     "name": "stdout",
     "output_type": "stream",
     "text": [
      ">>> Adjust breaks for (3/9) EDUCATION_woe?\n",
      "1: next \n",
      "2: yes \n",
      "3: back\n"
     ]
    },
    {
     "name": "stdin",
     "output_type": "stream",
     "text": [
      "Selection:  1\n"
     ]
    },
    {
     "name": "stdout",
     "output_type": "stream",
     "text": [
      "-------- 4/9 PAY_0 --------\n",
      ">>> dt[PAY_0].describe(): \n",
      "count    30000.000000\n",
      "mean        -0.016700\n",
      "std          1.123802\n",
      "min         -2.000000\n",
      "25%         -1.000000\n",
      "50%          0.000000\n",
      "75%          0.000000\n",
      "max          8.000000\n",
      "Name: PAY_0, dtype: float64 \n",
      "\n"
     ]
    },
    {
     "data": {
      "image/png": "[encoded data removed]",
      "text/plain": [
       "<Figure size 720x720 with 1 Axes>"
      ]
     },
     "metadata": {
      "needs_background": "light"
     },
     "output_type": "display_data"
    },
    {
     "name": "stdout",
     "output_type": "stream",
     "text": [
      ">>> Current breaks:\n",
      "0.0,1.0,2.0 \n",
      "\n"
     ]
    },
    {
     "data": {
      "image/png": "[encoded data removed]",
      "text/plain": [
       "<Figure size 720x720 with 2 Axes>"
      ]
     },
     "metadata": {
      "needs_background": "light"
     },
     "output_type": "display_data"
    },
    {
     "name": "stdout",
     "output_type": "stream",
     "text": [
      ">>> Adjust breaks for (4/9) PAY_0?\n",
      "1: next \n",
      "2: yes \n",
      "3: back\n"
     ]
    },
    {
     "name": "stdin",
     "output_type": "stream",
     "text": [
      "Selection:  1\n"
     ]
    },
    {
     "name": "stdout",
     "output_type": "stream",
     "text": [
      "-------- 5/9 PAY_6 --------\n",
      ">>> dt[PAY_6].describe(): \n",
      "count    30000.000000\n",
      "mean        -0.291100\n",
      "std          1.149988\n",
      "min         -2.000000\n",
      "25%         -1.000000\n",
      "50%          0.000000\n",
      "75%          0.000000\n",
      "max          8.000000\n",
      "Name: PAY_6, dtype: float64 \n",
      "\n"
     ]
    },
    {
     "data": {
      "image/png": "[encoded data removed]",
      "text/plain": [
       "<Figure size 720x720 with 1 Axes>"
      ]
     },
     "metadata": {
      "needs_background": "light"
     },
     "output_type": "display_data"
    },
    {
     "name": "stdout",
     "output_type": "stream",
     "text": [
      ">>> Current breaks:\n",
      "-1.0,2.0 \n",
      "\n"
     ]
    },
    {
     "data": {
      "image/png": "[encoded data removed]",
      "text/plain": [
       "<Figure size 720x720 with 2 Axes>"
      ]
     },
     "metadata": {
      "needs_background": "light"
     },
     "output_type": "display_data"
    },
    {
     "name": "stdout",
     "output_type": "stream",
     "text": [
      ">>> Adjust breaks for (5/9) PAY_6?\n",
      "1: next \n",
      "2: yes \n",
      "3: back\n"
     ]
    },
    {
     "name": "stdin",
     "output_type": "stream",
     "text": [
      "Selection:  1\n"
     ]
    },
    {
     "name": "stdout",
     "output_type": "stream",
     "text": [
      "-------- 6/9 PAY_AMT1 --------\n",
      ">>> dt[PAY_AMT1].describe(): \n",
      "count     30000.000000\n",
      "mean       5663.580500\n",
      "std       16563.280354\n",
      "min           0.000000\n",
      "25%        1000.000000\n",
      "50%        2100.000000\n",
      "75%        5006.000000\n",
      "max      873552.000000\n",
      "Name: PAY_AMT1, dtype: float64 \n",
      "\n"
     ]
    },
    {
     "data": {
      "image/png": "[encoded data removed]",
      "text/plain": [
       "<Figure size 720x720 with 1 Axes>"
      ]
     },
     "metadata": {
      "needs_background": "light"
     },
     "output_type": "display_data"
    },
    {
     "name": "stdout",
     "output_type": "stream",
     "text": [
      ">>> Current breaks:\n",
      "500.0,5000.0,17500.0 \n",
      "\n"
     ]
    },
    {
     "data": {
      "image/png": "[encoded data removed]",
      "text/plain": [
       "<Figure size 720x720 with 2 Axes>"
      ]
     },
     "metadata": {
      "needs_background": "light"
     },
     "output_type": "display_data"
    },
    {
     "name": "stdout",
     "output_type": "stream",
     "text": [
      ">>> Adjust breaks for (6/9) PAY_AMT1?\n",
      "1: next \n",
      "2: yes \n",
      "3: back\n"
     ]
    },
    {
     "name": "stdin",
     "output_type": "stream",
     "text": [
      "Selection:  1\n"
     ]
    },
    {
     "name": "stdout",
     "output_type": "stream",
     "text": [
      "-------- 7/9 PAY_AMT3 --------\n",
      ">>> dt[PAY_AMT3].describe(): \n",
      "count     30000.00000\n",
      "mean       5225.68150\n",
      "std       17606.96147\n",
      "min           0.00000\n",
      "25%         390.00000\n",
      "50%        1800.00000\n",
      "75%        4505.00000\n",
      "max      896040.00000\n",
      "Name: PAY_AMT3, dtype: float64 \n",
      "\n"
     ]
    },
    {
     "data": {
      "image/png": "[encoded data removed]",
      "text/plain": [
       "<Figure size 720x720 with 1 Axes>"
      ]
     },
     "metadata": {
      "needs_background": "light"
     },
     "output_type": "display_data"
    },
    {
     "name": "stdout",
     "output_type": "stream",
     "text": [
      ">>> Current breaks:\n",
      "500.0,3000.0,5000.0,12500.0 \n",
      "\n"
     ]
    },
    {
     "data": {
      "image/png": "[encoded data removed]",
      "text/plain": [
       "<Figure size 720x720 with 2 Axes>"
      ]
     },
     "metadata": {
      "needs_background": "light"
     },
     "output_type": "display_data"
    },
    {
     "name": "stdout",
     "output_type": "stream",
     "text": [
      ">>> Adjust breaks for (7/9) PAY_AMT3?\n",
      "1: next \n",
      "2: yes \n",
      "3: back\n"
     ]
    },
    {
     "name": "stdin",
     "output_type": "stream",
     "text": [
      "Selection:  1\n"
     ]
    },
    {
     "name": "stdout",
     "output_type": "stream",
     "text": [
      "-------- 8/9 PAY_AMT4 --------\n",
      ">>> dt[PAY_AMT4].describe(): \n",
      "count     30000.000000\n",
      "mean       4826.076867\n",
      "std       15666.159744\n",
      "min           0.000000\n",
      "25%         296.000000\n",
      "50%        1500.000000\n",
      "75%        4013.250000\n",
      "max      621000.000000\n",
      "Name: PAY_AMT4, dtype: float64 \n",
      "\n"
     ]
    },
    {
     "data": {
      "image/png": "[encoded data removed]",
      "text/plain": [
       "<Figure size 720x720 with 1 Axes>"
      ]
     },
     "metadata": {
      "needs_background": "light"
     },
     "output_type": "display_data"
    },
    {
     "name": "stdout",
     "output_type": "stream",
     "text": [
      ">>> Current breaks:\n",
      "500.0,2000.0,4500.0,15500.0 \n",
      "\n"
     ]
    },
    {
     "data": {
      "image/png": "[encoded data removed]",
      "text/plain": [
       "<Figure size 720x720 with 2 Axes>"
      ]
     },
     "metadata": {
      "needs_background": "light"
     },
     "output_type": "display_data"
    },
    {
     "name": "stdout",
     "output_type": "stream",
     "text": [
      ">>> Adjust breaks for (8/9) PAY_AMT4?\n",
      "1: next \n",
      "2: yes \n",
      "3: back\n"
     ]
    },
    {
     "name": "stdin",
     "output_type": "stream",
     "text": [
      "Selection:  1\n"
     ]
    },
    {
     "name": "stdout",
     "output_type": "stream",
     "text": [
      "-------- 9/9 PAY_AMT6 --------\n",
      ">>> dt[PAY_AMT6].describe(): \n",
      "count     30000.000000\n",
      "mean       5215.502567\n",
      "std       17777.465775\n",
      "min           0.000000\n",
      "25%         117.750000\n",
      "50%        1500.000000\n",
      "75%        4000.000000\n",
      "max      528666.000000\n",
      "Name: PAY_AMT6, dtype: float64 \n",
      "\n"
     ]
    },
    {
     "data": {
      "image/png": "[encoded data removed]",
      "text/plain": [
       "<Figure size 720x720 with 1 Axes>"
      ]
     },
     "metadata": {
      "needs_background": "light"
     },
     "output_type": "display_data"
    },
    {
     "name": "stdout",
     "output_type": "stream",
     "text": [
      ">>> Current breaks:\n",
      "1000.0,3000.0,4000.0,10000.0 \n",
      "\n"
     ]
    },
    {
     "data": {
      "image/png": "[encoded data removed]",
      "text/plain": [
       "<Figure size 720x720 with 2 Axes>"
      ]
     },
     "metadata": {
      "needs_background": "light"
     },
     "output_type": "display_data"
    },
    {
     "name": "stdout",
     "output_type": "stream",
     "text": [
      ">>> Adjust breaks for (9/9) PAY_AMT6?\n",
      "1: next \n",
      "2: yes \n",
      "3: back\n"
     ]
    },
    {
     "name": "stdin",
     "output_type": "stream",
     "text": [
      "Selection:  1\n"
     ]
    }
   ],
   "source": [
    "bins = sc.woebin(dt_sdatvar, y=\"target\")\n",
    "breaks_adj =sc.woebin_adj(dt_sdatvar, \"target\", bins)"
   ]
  },
  {
   "cell_type": "code",
   "execution_count": 55,
   "metadata": {},
   "outputs": [
    {
     "name": "stdout",
     "output_type": "stream",
     "text": [
      "[INFO] creating woe binning ...\n",
      "{'AGE': [26.0,29.0,36.0,46.0], 'BILL_AMT5': [15000.0,50000.0,165000.0], 'EDUCATION_woe': [0.09127995170064153,0.16832773040566085], 'LIMIT_BAL': [40000.0,140000.0,380000.0], 'PAY_0': [0.0,1.0,2.0], 'PAY_2': [-1.0,2.0], 'PAY_6': [-1.0,2.0], 'PAY_AMT1': [500.0,5000.0,17500.0], 'PAY_AMT2': [500.0,2000.0,5000.0,17500.0], 'PAY_AMT3': [500.0,3000.0,5000.0,12500.0], 'PAY_AMT4': [500.0,2000.0,4500.0,15500.0], 'PAY_AMT5': [500.0,3000.0,4000.0,14500.0], 'PAY_AMT6': [1000.0,3000.0,4000.0,10000.0]}\n"
     ]
    }
   ],
   "source": [
    "bins_adj = sc.woebin(dt_sdatvar, y=\"target\", breaks_list=breaks_adj)\n",
    "print(breaks_adj)"
   ]
  },
  {
   "cell_type": "code",
   "execution_count": 56,
   "metadata": {},
   "outputs": [
    {
     "name": "stdout",
     "output_type": "stream",
     "text": [
      "[INFO] converting into woe values ...\n"
     ]
    },
    {
     "data": {
      "text/html": [
       "<div>\n",
       "<style scoped>\n",
       "    .dataframe tbody tr th:only-of-type {\n",
       "        vertical-align: middle;\n",
       "    }\n",
       "\n",
       "    .dataframe tbody tr th {\n",
       "        vertical-align: top;\n",
       "    }\n",
       "\n",
       "    .dataframe thead th {\n",
       "        text-align: right;\n",
       "    }\n",
       "</style>\n",
       "<table border=\"1\" class=\"dataframe\">\n",
       "  <thead>\n",
       "    <tr style=\"text-align: right;\">\n",
       "      <th></th>\n",
       "      <th>target</th>\n",
       "      <th>AGE_woe</th>\n",
       "      <th>PAY_0_woe</th>\n",
       "      <th>PAY_AMT4_woe</th>\n",
       "      <th>PAY_AMT3_woe</th>\n",
       "      <th>PAY_6_woe</th>\n",
       "      <th>PAY_2_woe</th>\n",
       "      <th>PAY_AMT6_woe</th>\n",
       "      <th>PAY_AMT5_woe</th>\n",
       "      <th>LIMIT_BAL_woe</th>\n",
       "      <th>PAY_AMT1_woe</th>\n",
       "      <th>EDUCATION_woe_woe</th>\n",
       "      <th>BILL_AMT5_woe</th>\n",
       "      <th>PAY_AMT2_woe</th>\n",
       "    </tr>\n",
       "  </thead>\n",
       "  <tbody>\n",
       "    <tr>\n",
       "      <th>0</th>\n",
       "      <td>1</td>\n",
       "      <td>0.246734</td>\n",
       "      <td>2.084775</td>\n",
       "      <td>0.332804</td>\n",
       "      <td>0.411208</td>\n",
       "      <td>-0.125056</td>\n",
       "      <td>1.501138</td>\n",
       "      <td>0.273671</td>\n",
       "      <td>0.300488</td>\n",
       "      <td>0.676765</td>\n",
       "      <td>0.552881</td>\n",
       "      <td>0.091416</td>\n",
       "      <td>-0.038327</td>\n",
       "      <td>0.072079</td>\n",
       "    </tr>\n",
       "    <tr>\n",
       "      <th>1</th>\n",
       "      <td>1</td>\n",
       "      <td>-0.092369</td>\n",
       "      <td>-0.428189</td>\n",
       "      <td>0.094988</td>\n",
       "      <td>0.027638</td>\n",
       "      <td>1.351641</td>\n",
       "      <td>1.501138</td>\n",
       "      <td>0.019319</td>\n",
       "      <td>0.300488</td>\n",
       "      <td>0.197458</td>\n",
       "      <td>0.552881</td>\n",
       "      <td>0.091416</td>\n",
       "      <td>-0.038327</td>\n",
       "      <td>0.072079</td>\n",
       "    </tr>\n",
       "    <tr>\n",
       "      <th>2</th>\n",
       "      <td>0</td>\n",
       "      <td>-0.160764</td>\n",
       "      <td>-0.659061</td>\n",
       "      <td>0.094988</td>\n",
       "      <td>0.027638</td>\n",
       "      <td>-0.233450</td>\n",
       "      <td>-0.404764</td>\n",
       "      <td>-0.353411</td>\n",
       "      <td>0.044275</td>\n",
       "      <td>0.197458</td>\n",
       "      <td>-0.017578</td>\n",
       "      <td>0.091416</td>\n",
       "      <td>-0.038327</td>\n",
       "      <td>0.072079</td>\n",
       "    </tr>\n",
       "    <tr>\n",
       "      <th>3</th>\n",
       "      <td>0</td>\n",
       "      <td>-0.016469</td>\n",
       "      <td>-0.659061</td>\n",
       "      <td>0.094988</td>\n",
       "      <td>0.027638</td>\n",
       "      <td>-0.233450</td>\n",
       "      <td>-0.404764</td>\n",
       "      <td>0.019319</td>\n",
       "      <td>0.044275</td>\n",
       "      <td>0.197458</td>\n",
       "      <td>-0.017578</td>\n",
       "      <td>0.091416</td>\n",
       "      <td>0.142084</td>\n",
       "      <td>-0.053113</td>\n",
       "    </tr>\n",
       "    <tr>\n",
       "      <th>4</th>\n",
       "      <td>0</td>\n",
       "      <td>0.172317</td>\n",
       "      <td>-0.428189</td>\n",
       "      <td>-0.411755</td>\n",
       "      <td>-0.420977</td>\n",
       "      <td>-0.233450</td>\n",
       "      <td>-0.404764</td>\n",
       "      <td>0.273671</td>\n",
       "      <td>0.044275</td>\n",
       "      <td>0.197458</td>\n",
       "      <td>-0.017578</td>\n",
       "      <td>0.091416</td>\n",
       "      <td>0.142084</td>\n",
       "      <td>-1.177714</td>\n",
       "    </tr>\n",
       "  </tbody>\n",
       "</table>\n",
       "</div>"
      ],
      "text/plain": [
       "   target   AGE_woe  PAY_0_woe  PAY_AMT4_woe  PAY_AMT3_woe  PAY_6_woe  \\\n",
       "0       1  0.246734   2.084775      0.332804      0.411208  -0.125056   \n",
       "1       1 -0.092369  -0.428189      0.094988      0.027638   1.351641   \n",
       "2       0 -0.160764  -0.659061      0.094988      0.027638  -0.233450   \n",
       "3       0 -0.016469  -0.659061      0.094988      0.027638  -0.233450   \n",
       "4       0  0.172317  -0.428189     -0.411755     -0.420977  -0.233450   \n",
       "\n",
       "   PAY_2_woe  PAY_AMT6_woe  PAY_AMT5_woe  LIMIT_BAL_woe  PAY_AMT1_woe  \\\n",
       "0   1.501138      0.273671      0.300488       0.676765      0.552881   \n",
       "1   1.501138      0.019319      0.300488       0.197458      0.552881   \n",
       "2  -0.404764     -0.353411      0.044275       0.197458     -0.017578   \n",
       "3  -0.404764      0.019319      0.044275       0.197458     -0.017578   \n",
       "4  -0.404764      0.273671      0.044275       0.197458     -0.017578   \n",
       "\n",
       "   EDUCATION_woe_woe  BILL_AMT5_woe  PAY_AMT2_woe  \n",
       "0           0.091416      -0.038327      0.072079  \n",
       "1           0.091416      -0.038327      0.072079  \n",
       "2           0.091416      -0.038327      0.072079  \n",
       "3           0.091416       0.142084     -0.053113  \n",
       "4           0.091416       0.142084     -1.177714  "
      ]
     },
     "execution_count": 56,
     "metadata": {},
     "output_type": "execute_result"
    }
   ],
   "source": [
    "dt_s_woe_allvar = sc.woebin_ply(dt_sdatvar, bins_adj)\n",
    "dt_s_woe_allvar.head()"
   ]
  },
  {
   "cell_type": "code",
   "execution_count": 57,
   "metadata": {},
   "outputs": [
    {
     "data": {
      "text/plain": [
       "{'AGE':   variable          bin  count  count_distr  good   bad   badprob       woe  \\\n",
       " 0      AGE  [-inf,26.0)   3871     0.129033  2839  1032  0.266598  0.246734   \n",
       " 1      AGE  [26.0,29.0)   4142     0.138067  3290   852  0.205698 -0.092369   \n",
       " 2      AGE  [29.0,36.0)   8796     0.293200  7083  1713  0.194748 -0.160764   \n",
       " 3      AGE  [36.0,46.0)   8522     0.284067  6661  1861  0.218376 -0.016469   \n",
       " 4      AGE   [46.0,inf)   4669     0.155633  3491  1178  0.252302  0.172317   \n",
       " \n",
       "      bin_iv  total_iv breaks  is_special_values  \n",
       " 0  0.008390  0.021694   26.0              False  \n",
       " 1  0.001148  0.021694   29.0              False  \n",
       " 2  0.007238  0.021694   36.0              False  \n",
       " 3  0.000077  0.021694   46.0              False  \n",
       " 4  0.004842  0.021694    inf              False  ,\n",
       " 'PAY_0':   variable         bin  count  count_distr   good   bad   badprob       woe  \\\n",
       " 0    PAY_0  [-inf,0.0)   8445     0.281500   7126  1319  0.156187 -0.428189   \n",
       " 1    PAY_0   [0.0,1.0)  14737     0.491233  12849  1888  0.128113 -0.659061   \n",
       " 2    PAY_0   [1.0,2.0)   3688     0.122933   2436  1252  0.339479  0.593072   \n",
       " 3    PAY_0   [2.0,inf)   3130     0.104333    953  2177  0.695527  2.084775   \n",
       " \n",
       "      bin_iv  total_iv breaks  is_special_values  \n",
       " 0  0.045489  0.869381    0.0              False  \n",
       " 1  0.174941  0.869381    1.0              False  \n",
       " 2  0.050058  0.869381    2.0              False  \n",
       " 3  0.598893  0.869381    inf              False  ,\n",
       " 'PAY_AMT4':    variable               bin  count  count_distr  good   bad   badprob  \\\n",
       " 0  PAY_AMT4      [-inf,500.0)   8775     0.292500  6285  2490  0.283761   \n",
       " 1  PAY_AMT4    [500.0,2000.0)   7664     0.255467  5840  1824  0.237996   \n",
       " 2  PAY_AMT4   [2000.0,4500.0)   6520     0.217333  5253  1267  0.194325   \n",
       " 3  PAY_AMT4  [4500.0,15500.0)   5481     0.182700  4613   868  0.158365   \n",
       " 4  PAY_AMT4     [15500.0,inf)   1560     0.052000  1373   187  0.119872   \n",
       " \n",
       "         woe    bin_iv  total_iv   breaks  is_special_values  \n",
       " 0  0.332804  0.035351  0.093178    500.0              False  \n",
       " 1  0.094988  0.002366  0.093178   2000.0              False  \n",
       " 2 -0.163460  0.005542  0.093178   4500.0              False  \n",
       " 3 -0.411755  0.027439  0.093178  15500.0              False  \n",
       " 4 -0.734958  0.022479  0.093178      inf              False  ,\n",
       " 'PAY_AMT3':    variable               bin  count  count_distr  good   bad   badprob  \\\n",
       " 0  PAY_AMT3      [-inf,500.0)   7871     0.262367  5510  2361  0.299962   \n",
       " 1  PAY_AMT3    [500.0,3000.0)  11124     0.370800  8610  2514  0.225998   \n",
       " 2  PAY_AMT3   [3000.0,5000.0)   3859     0.128633  3124   735  0.190464   \n",
       " 3  PAY_AMT3  [5000.0,12500.0)   4951     0.165033  4173   778  0.157140   \n",
       " 4  PAY_AMT3     [12500.0,inf)   2195     0.073167  1947   248  0.112984   \n",
       " \n",
       "         woe    bin_iv  total_iv   breaks  is_special_values  \n",
       " 0  0.411208  0.049326  0.116626    500.0              False  \n",
       " 1  0.027638  0.000285  0.116626   3000.0              False  \n",
       " 2 -0.188312  0.004322  0.116626   5000.0              False  \n",
       " 3 -0.420977  0.025835  0.116626  12500.0              False  \n",
       " 4 -0.801929  0.036858  0.116626      inf              False  ,\n",
       " 'PAY_6':   variable          bin  count  count_distr   good   bad   badprob       woe  \\\n",
       " 0    PAY_6  [-inf,-1.0)   4895     0.163167   3914   981  0.200409 -0.125056   \n",
       " 1    PAY_6   [-1.0,2.0)  22026     0.734200  17982  4044  0.183601 -0.233450   \n",
       " 2    PAY_6    [2.0,inf)   3079     0.102633   1468  1611  0.523222  1.351641   \n",
       " \n",
       "      bin_iv  total_iv breaks  is_special_values  \n",
       " 0  0.002463  0.283079   -1.0              False  \n",
       " 1  0.037409  0.283079    2.0              False  \n",
       " 2  0.243208  0.283079    inf              False  ,\n",
       " 'PAY_2':   variable          bin  count  count_distr   good   bad   badprob       woe  \\\n",
       " 0    PAY_2  [-inf,-1.0)   3782     0.126067   3091   691  0.182708 -0.239423   \n",
       " 1    PAY_2   [-1.0,2.0)  21808     0.726933  18334  3474  0.159299 -0.404764   \n",
       " 2    PAY_2    [2.0,inf)   4410     0.147000   1939  2471  0.560317  1.501138   \n",
       " \n",
       "      bin_iv  total_iv breaks  is_special_values  \n",
       " 0  0.006744  0.546857   -1.0              False  \n",
       " 1  0.105726  0.546857    2.0              False  \n",
       " 2  0.434387  0.546857    inf              False  ,\n",
       " 'PAY_AMT6':    variable               bin  count  count_distr  good   bad   badprob  \\\n",
       " 0  PAY_AMT6     [-inf,1000.0)  11725     0.390833  8537  3188  0.271898   \n",
       " 1  PAY_AMT6   [1000.0,3000.0)   7985     0.266167  6192  1793  0.224546   \n",
       " 2  PAY_AMT6   [3000.0,4000.0)   2396     0.079867  1931   465  0.194073   \n",
       " 3  PAY_AMT6  [4000.0,10000.0)   4967     0.165567  4141   826  0.166298   \n",
       " 4  PAY_AMT6     [10000.0,inf)   2927     0.097567  2563   364  0.124359   \n",
       " \n",
       "         woe    bin_iv  total_iv   breaks  is_special_values  \n",
       " 0  0.273671  0.031477  0.090315   1000.0              False  \n",
       " 1  0.019319  0.000100  0.090315   3000.0              False  \n",
       " 2 -0.165069  0.002076  0.090315   4000.0              False  \n",
       " 3 -0.353411  0.018648  0.090315  10000.0              False  \n",
       " 4 -0.693093  0.038014  0.090315      inf              False  ,\n",
       " 'PAY_AMT5':    variable               bin  count  count_distr  good   bad   badprob  \\\n",
       " 0  PAY_AMT5      [-inf,500.0)   8866     0.295533  6408  2458  0.277239   \n",
       " 1  PAY_AMT5    [500.0,3000.0)  10781     0.359367  8313  2468  0.228921   \n",
       " 2  PAY_AMT5   [3000.0,4000.0)   2394     0.079800  1920   474  0.197995   \n",
       " 3  PAY_AMT5  [4000.0,14500.0)   6237     0.207900  5189  1048  0.168030   \n",
       " 4  PAY_AMT5     [14500.0,inf)   1722     0.057400  1534   188  0.109175   \n",
       " \n",
       "         woe    bin_iv  total_iv   breaks  is_special_values  \n",
       " 0  0.300488  0.028888   0.08436    500.0              False  \n",
       " 1  0.044275  0.000713   0.08436   3000.0              False  \n",
       " 2 -0.140186  0.001507   0.08436   4000.0              False  \n",
       " 3 -0.340970  0.021879   0.08436  14500.0              False  \n",
       " 4 -0.840505  0.031373   0.08436      inf              False  ,\n",
       " 'LIMIT_BAL':     variable                  bin  count  count_distr   good   bad   badprob  \\\n",
       " 0  LIMIT_BAL       [-inf,40000.0)   4081     0.136033   2618  1463  0.358491   \n",
       " 1  LIMIT_BAL   [40000.0,140000.0)  10460     0.348667   7771  2689  0.257075   \n",
       " 2  LIMIT_BAL  [140000.0,380000.0)  13054     0.435133  10856  2198  0.168378   \n",
       " 3  LIMIT_BAL       [380000.0,inf)   2405     0.080167   2119   286  0.118919   \n",
       " \n",
       "         woe    bin_iv  total_iv    breaks  is_special_values  \n",
       " 0  0.676765  0.073369  0.168281   40000.0              False  \n",
       " 1  0.197458  0.014337  0.168281  140000.0              False  \n",
       " 2 -0.338483  0.045161  0.168281  380000.0              False  \n",
       " 3 -0.744021  0.035413  0.168281       inf              False  ,\n",
       " 'PAY_AMT1':    variable               bin  count  count_distr   good   bad   badprob  \\\n",
       " 0  PAY_AMT1      [-inf,500.0)   6650     0.221667   4452  2198  0.330526   \n",
       " 1  PAY_AMT1    [500.0,5000.0)  15088     0.502933  11796  3292  0.218187   \n",
       " 2  PAY_AMT1  [5000.0,17500.0)   6676     0.222533   5683   993  0.148742   \n",
       " 3  PAY_AMT1     [17500.0,inf)   1586     0.052867   1433   153  0.096469   \n",
       " \n",
       "         woe    bin_iv  total_iv   breaks  is_special_values  \n",
       " 0  0.552881  0.077776  0.160854    500.0              False  \n",
       " 1 -0.017578  0.000155  0.160854   5000.0              False  \n",
       " 2 -0.485817  0.045472  0.160854  17500.0              False  \n",
       " 3 -0.978401  0.037451  0.160854      inf              False  ,\n",
       " 'EDUCATION_woe':         variable                                        bin  count  \\\n",
       " 0  EDUCATION_woe                 [-inf,0.09127995170064153)  11053   \n",
       " 1  EDUCATION_woe  [0.09127995170064153,0.16832773040566085)  14030   \n",
       " 2  EDUCATION_woe                  [0.16832773040566085,inf)   4917   \n",
       " \n",
       "    count_distr   good   bad   badprob       woe    bin_iv  total_iv  \\\n",
       " 0     0.368433   8984  2069  0.187189 -0.209693  0.015253  0.024129   \n",
       " 1     0.467667  10700  3330  0.237349  0.091416  0.004008  0.024129   \n",
       " 2     0.163900   3680  1237  0.251576  0.168463  0.004869  0.024129   \n",
       " \n",
       "                 breaks  is_special_values  \n",
       " 0  0.09127995170064153              False  \n",
       " 1  0.16832773040566085              False  \n",
       " 2                  inf              False  ,\n",
       " 'BILL_AMT5':     variable                 bin  count  count_distr   good   bad   badprob  \\\n",
       " 0  BILL_AMT5      [-inf,15000.0)  13826     0.460867  10858  2968  0.214668   \n",
       " 1  BILL_AMT5   [15000.0,50000.0)   8636     0.287867   6506  2130  0.246642   \n",
       " 2  BILL_AMT5  [50000.0,165000.0)   6020     0.200667   4820  1200  0.199336   \n",
       " 3  BILL_AMT5      [165000.0,inf)   1518     0.050600   1180   338  0.222661   \n",
       " \n",
       "         woe    bin_iv  total_iv    breaks  is_special_values  \n",
       " 0 -0.038327  0.000670   0.01007   15000.0              False  \n",
       " 1  0.142084  0.006041   0.01007   50000.0              False  \n",
       " 2 -0.131765  0.003356   0.01007  165000.0              False  \n",
       " 3  0.008463  0.000004   0.01007       inf              False  ,\n",
       " 'PAY_AMT2':    variable               bin  count  count_distr  good   bad   badprob  \\\n",
       " 0  PAY_AMT2      [-inf,500.0)   6847     0.228233  4686  2161  0.315613   \n",
       " 1  PAY_AMT2    [500.0,2000.0)   6756     0.225200  5176  1580  0.233866   \n",
       " 2  PAY_AMT2   [2000.0,5000.0)   8436     0.281200  6646  1790  0.212186   \n",
       " 3  PAY_AMT2  [5000.0,17500.0)   6320     0.210667  5347   973  0.153956   \n",
       " 4  PAY_AMT2     [17500.0,inf)   1641     0.054700  1509   132  0.080439   \n",
       " \n",
       "         woe    bin_iv  total_iv   breaks  is_special_values  \n",
       " 0  0.484679  0.060625  0.151849    500.0              False  \n",
       " 1  0.072079  0.001193  0.151849   2000.0              False  \n",
       " 2 -0.053113  0.000781  0.151849   5000.0              False  \n",
       " 3 -0.445220  0.036611  0.151849  17500.0              False  \n",
       " 4 -1.177714  0.052638  0.151849      inf              False  }"
      ]
     },
     "execution_count": 57,
     "metadata": {},
     "output_type": "execute_result"
    }
   ],
   "source": [
    "bins_adj"
   ]
  },
  {
   "cell_type": "code",
   "execution_count": 59,
   "metadata": {},
   "outputs": [
    {
     "data": {
      "text/plain": [
       "['target',\n",
       " 'AGE_woe',\n",
       " 'PAY_0_woe',\n",
       " 'PAY_AMT4_woe',\n",
       " 'PAY_AMT3_woe',\n",
       " 'PAY_6_woe',\n",
       " 'PAY_2_woe',\n",
       " 'PAY_AMT6_woe',\n",
       " 'PAY_AMT5_woe',\n",
       " 'LIMIT_BAL_woe',\n",
       " 'PAY_AMT1_woe',\n",
       " 'EDUCATION_woe_woe',\n",
       " 'BILL_AMT5_woe',\n",
       " 'PAY_AMT2_woe']"
      ]
     },
     "execution_count": 59,
     "metadata": {},
     "output_type": "execute_result"
    }
   ],
   "source": [
    "list(dt_s_woe_allvar.columns)"
   ]
  },
  {
   "cell_type": "code",
   "execution_count": 60,
   "metadata": {},
   "outputs": [
    {
     "name": "stdout",
     "output_type": "stream",
     "text": [
      "(22500, 13) (7500, 13)\n",
      "0.2212 0.2212\n"
     ]
    }
   ],
   "source": [
    "var_log = [\n",
    " 'LIMIT_BAL_woe',\n",
    " 'BILL_AMT5_woe',\n",
    " 'PAY_AMT6_woe',\n",
    " 'AGE_woe',\n",
    " 'PAY_AMT5_woe',\n",
    " 'PAY_AMT4_woe',\n",
    " 'PAY_2_woe',\n",
    " 'PAY_6_woe',\n",
    " 'PAY_AMT1_woe',\n",
    " 'PAY_AMT2_woe',\n",
    " 'EDUCATION_woe_woe',\n",
    " 'PAY_0_woe',\n",
    " 'PAY_AMT3_woe']\n",
    "\n",
    "X_log = dt_s_woe_allvar[var_log]\n",
    "y_log = dt_s_woe_allvar['target']\n",
    "\n",
    "X_train1, X_test1, y_train1, y_test1 =  train_test_split(X_log, y_log,\n",
    "                                                    stratify = y,\n",
    "                                                   random_state = 2,\n",
    "                                                   test_size = 0.25)\n",
    "\n",
    "print(X_train1.shape, X_test1.shape)\n",
    "print(y_train1.mean(), y_test1.mean())"
   ]
  },
  {
   "cell_type": "code",
   "execution_count": 92,
   "metadata": {},
   "outputs": [
    {
     "data": {
      "text/plain": [
       "LogisticRegression(C=0.9, class_weight=None, dual=False, fit_intercept=True,\n",
       "          intercept_scaling=1, max_iter=100, multi_class='warn', n_jobs=-1,\n",
       "          penalty='l1', random_state=None, solver='saga', tol=0.0001,\n",
       "          verbose=0, warm_start=False)"
      ]
     },
     "execution_count": 92,
     "metadata": {},
     "output_type": "execute_result"
    }
   ],
   "source": [
    "from sklearn.linear_model import LogisticRegression\n",
    "lr = LogisticRegression(penalty='l1', C=0.9, solver='saga', n_jobs=-1)\n",
    "lr.fit(X_train1,y_train1)"
   ]
  },
  {
   "cell_type": "code",
   "execution_count": 93,
   "metadata": {},
   "outputs": [],
   "source": [
    "train_pred = lr.predict_proba(X_train1)[:,1]\n",
    "test_pred = lr.predict_proba(X_test1)[:,1]"
   ]
  },
  {
   "cell_type": "code",
   "execution_count": 94,
   "metadata": {},
   "outputs": [
    {
     "data": {
      "text/plain": [
       "array([0.1838851 , 0.12836048, 0.16665745, ..., 0.15494972, 0.12197702,\n",
       "       0.50005559])"
      ]
     },
     "execution_count": 94,
     "metadata": {},
     "output_type": "execute_result"
    }
   ],
   "source": [
    "test_pred"
   ]
  },
  {
   "cell_type": "code",
   "execution_count": 88,
   "metadata": {},
   "outputs": [
    {
     "data": {
      "image/png": "[encoded data removed]",
      "text/plain": [
       "<Figure size 720x720 with 2 Axes>"
      ]
     },
     "metadata": {
      "needs_background": "light"
     },
     "output_type": "display_data"
    },
    {
     "data": {
      "image/png": "[encoded data removed]",
      "text/plain": [
       "<Figure size 720x720 with 2 Axes>"
      ]
     },
     "metadata": {
      "needs_background": "light"
     },
     "output_type": "display_data"
    }
   ],
   "source": [
    "train_pref = sc.perf_eva(y_train1, train_pred, title = \"train\")\n",
    "test_pref = sc.perf_eva(y_test1, test_pred, title = \"test\")"
   ]
  },
  {
   "cell_type": "code",
   "execution_count": 67,
   "metadata": {},
   "outputs": [],
   "source": [
    "from mlxtend.feature_selection import SequentialFeatureSelector as SFS"
   ]
  },
  {
   "cell_type": "code",
   "execution_count": 70,
   "metadata": {},
   "outputs": [
    {
     "name": "stdout",
     "output_type": "stream",
     "text": [
      "best combination (ACC: 0.766):('LIMIT_BAL_woe', 'BILL_AMT5_woe', 'AGE_woe', 'PAY_AMT5_woe', 'PAY_AMT4_woe', 'PAY_2_woe', 'PAY_6_woe', 'PAY_AMT1_woe', 'PAY_AMT2_woe', 'EDUCATION_woe_woe', 'PAY_0_woe', 'PAY_AMT3_woe')\n",
      "\n",
      "all subsets: \n",
      " {1: {'feature_idx': (11,), 'cv_scores': array([0.70017864, 0.69020868, 0.69827583, 0.70415953, 0.6995714 ]), 'avg_score': 0.6984788157097366, 'feature_names': ('PAY_0_woe',)}, 2: {'feature_idx': (9, 11), 'cv_scores': array([0.74129005, 0.73079033, 0.74645739, 0.74416015, 0.74324309]), 'avg_score': 0.7411882009349122, 'feature_names': ('PAY_AMT2_woe', 'PAY_0_woe')}, 3: {'feature_idx': (7, 9, 11), 'cv_scores': array([0.75207937, 0.74518799, 0.75431394, 0.75046719, 0.75189413]), 'avg_score': 0.7507885261070457, 'feature_names': ('PAY_6_woe', 'PAY_AMT2_woe', 'PAY_0_woe')}, 4: {'feature_idx': (0, 7, 9, 11), 'cv_scores': array([0.7555062 , 0.75835569, 0.75742306, 0.76052569, 0.75737382]), 'avg_score': 0.7578368928885185, 'feature_names': ('LIMIT_BAL_woe', 'PAY_6_woe', 'PAY_AMT2_woe', 'PAY_0_woe')}, 5: {'feature_idx': (0, 7, 9, 11, 12), 'cv_scores': array([0.7597329 , 0.76513538, 0.75979813, 0.76339777, 0.76238458]), 'avg_score': 0.7620897533072453, 'feature_names': ('LIMIT_BAL_woe', 'PAY_6_woe', 'PAY_AMT2_woe', 'PAY_0_woe', 'PAY_AMT3_woe')}, 6: {'feature_idx': (0, 6, 7, 9, 11, 12), 'cv_scores': array([0.762116  , 0.76557767, 0.76319357, 0.76651942, 0.7635876 ]), 'avg_score': 0.7641988522641638, 'feature_names': ('LIMIT_BAL_woe', 'PAY_2_woe', 'PAY_6_woe', 'PAY_AMT2_woe', 'PAY_0_woe', 'PAY_AMT3_woe')}, 7: {'feature_idx': (0, 5, 6, 7, 9, 11, 12), 'cv_scores': array([0.76445509, 0.76681281, 0.76259256, 0.76789765, 0.76455737]), 'avg_score': 0.7652630955264306, 'feature_names': ('LIMIT_BAL_woe', 'PAY_AMT4_woe', 'PAY_2_woe', 'PAY_6_woe', 'PAY_AMT2_woe', 'PAY_0_woe', 'PAY_AMT3_woe')}, 8: {'feature_idx': (0, 3, 5, 6, 7, 9, 11, 12), 'cv_scores': array([0.76441552, 0.76686729, 0.76240403, 0.76836255, 0.76554004]), 'avg_score': 0.7655178854844429, 'feature_names': ('LIMIT_BAL_woe', 'AGE_woe', 'PAY_AMT4_woe', 'PAY_2_woe', 'PAY_6_woe', 'PAY_AMT2_woe', 'PAY_0_woe', 'PAY_AMT3_woe')}, 9: {'feature_idx': (0, 3, 5, 6, 7, 8, 9, 11, 12), 'cv_scores': array([0.76391931, 0.76728693, 0.76268346, 0.76872989, 0.76580093]), 'avg_score': 0.7656841045271615, 'feature_names': ('LIMIT_BAL_woe', 'AGE_woe', 'PAY_AMT4_woe', 'PAY_2_woe', 'PAY_6_woe', 'PAY_AMT1_woe', 'PAY_AMT2_woe', 'PAY_0_woe', 'PAY_AMT3_woe')}, 10: {'feature_idx': (0, 3, 5, 6, 7, 8, 9, 10, 11, 12), 'cv_scores': array([0.76451186, 0.76667818, 0.76312432, 0.76878748, 0.76616139]), 'avg_score': 0.7658526477341399, 'feature_names': ('LIMIT_BAL_woe', 'AGE_woe', 'PAY_AMT4_woe', 'PAY_2_woe', 'PAY_6_woe', 'PAY_AMT1_woe', 'PAY_AMT2_woe', 'EDUCATION_woe_woe', 'PAY_0_woe', 'PAY_AMT3_woe')}, 11: {'feature_idx': (0, 1, 3, 5, 6, 7, 8, 9, 10, 11, 12), 'cv_scores': array([0.76492118, 0.76654442, 0.76285049, 0.76947287, 0.7657995 ]), 'avg_score': 0.7659176912596455, 'feature_names': ('LIMIT_BAL_woe', 'BILL_AMT5_woe', 'AGE_woe', 'PAY_AMT4_woe', 'PAY_2_woe', 'PAY_6_woe', 'PAY_AMT1_woe', 'PAY_AMT2_woe', 'EDUCATION_woe_woe', 'PAY_0_woe', 'PAY_AMT3_woe')}, 12: {'feature_idx': (0, 1, 3, 4, 5, 6, 7, 8, 9, 10, 11, 12), 'cv_scores': array([0.76492047, 0.76652263, 0.76289651, 0.76956513, 0.76580494]), 'avg_score': 0.7659419354391831, 'feature_names': ('LIMIT_BAL_woe', 'BILL_AMT5_woe', 'AGE_woe', 'PAY_AMT5_woe', 'PAY_AMT4_woe', 'PAY_2_woe', 'PAY_6_woe', 'PAY_AMT1_woe', 'PAY_AMT2_woe', 'EDUCATION_woe_woe', 'PAY_0_woe', 'PAY_AMT3_woe')}, 13: {'feature_idx': (0, 1, 2, 3, 4, 5, 6, 7, 8, 9, 10, 11, 12), 'cv_scores': array([0.76434555, 0.76654385, 0.76290454, 0.76960553, 0.765874  ]), 'avg_score': 0.7658546932582168, 'feature_names': ('LIMIT_BAL_woe', 'BILL_AMT5_woe', 'PAY_AMT6_woe', 'AGE_woe', 'PAY_AMT5_woe', 'PAY_AMT4_woe', 'PAY_2_woe', 'PAY_6_woe', 'PAY_AMT1_woe', 'PAY_AMT2_woe', 'EDUCATION_woe_woe', 'PAY_0_woe', 'PAY_AMT3_woe')}}\n"
     ]
    },
    {
     "data": {
      "text/plain": [
       "('LIMIT_BAL_woe',\n",
       " 'BILL_AMT5_woe',\n",
       " 'AGE_woe',\n",
       " 'PAY_AMT5_woe',\n",
       " 'PAY_AMT4_woe',\n",
       " 'PAY_2_woe',\n",
       " 'PAY_6_woe',\n",
       " 'PAY_AMT1_woe',\n",
       " 'PAY_AMT2_woe',\n",
       " 'EDUCATION_woe_woe',\n",
       " 'PAY_0_woe',\n",
       " 'PAY_AMT3_woe')"
      ]
     },
     "execution_count": 70,
     "metadata": {},
     "output_type": "execute_result"
    }
   ],
   "source": [
    "sfs = SFS(estimator=lr,\n",
    "         k_features=(10,13),\n",
    "         forward=True,\n",
    "         floating=False,\n",
    "         scoring='roc_auc',\n",
    "         cv=5)\n",
    "feature_names=[\n",
    " 'LIMIT_BAL_woe',\n",
    " 'BILL_AMT5_woe',\n",
    " 'PAY_AMT6_woe',\n",
    " 'AGE_woe',\n",
    " 'PAY_AMT5_woe',\n",
    " 'PAY_AMT4_woe',\n",
    " 'PAY_2_woe',\n",
    " 'PAY_6_woe',\n",
    " 'PAY_AMT1_woe',\n",
    " 'PAY_AMT2_woe',\n",
    " 'EDUCATION_woe_woe',\n",
    " 'PAY_0_woe',\n",
    " 'PAY_AMT3_woe']\n",
    "\n",
    "sfs = sfs.fit(X_train1, y_train1)\n",
    "\n",
    "print('best combination (ACC: %.3f):%s\\n' % (sfs.k_score_, sfs.k_feature_names_))\n",
    "print('all subsets: \\n', sfs.subsets_)\n",
    "sfs.k_feature_names_"
   ]
  },
  {
   "cell_type": "code",
   "execution_count": 96,
   "metadata": {},
   "outputs": [
    {
     "name": "stdout",
     "output_type": "stream",
     "text": [
      "(22500, 10) (7500, 10)\n",
      "0.2212 0.2212\n"
     ]
    }
   ],
   "source": [
    "\n",
    "var_log2 = [\n",
    "'LIMIT_BAL_woe', \n",
    "'AGE_woe', \n",
    "'PAY_AMT4_woe', \n",
    "'PAY_2_woe', \n",
    "'PAY_6_woe', \n",
    "'PAY_AMT1_woe', \n",
    "'PAY_AMT2_woe', \n",
    "'EDUCATION_woe_woe', \n",
    "'PAY_0_woe', \n",
    "'PAY_AMT3_woe']\n",
    "\n",
    "\n",
    "\n",
    "X_log2 = dt_s_woe_allvar[var_log2]\n",
    "y_log2 = dt_s_woe_allvar['target']\n",
    "\n",
    "X_train2, X_test2, y_train2, y_test2 =  train_test_split(X_log2, y_log2,\n",
    "                                                    stratify = y,\n",
    "                                                   random_state = 2,\n",
    "                                                   test_size = 0.25)\n",
    "\n",
    "print(X_train2.shape, X_test2.shape)\n",
    "print(y_train2.mean(), y_test2.mean())"
   ]
  },
  {
   "cell_type": "code",
   "execution_count": 97,
   "metadata": {},
   "outputs": [
    {
     "data": {
      "text/plain": [
       "LogisticRegression(C=0.9, class_weight=None, dual=False, fit_intercept=True,\n",
       "          intercept_scaling=1, max_iter=100, multi_class='warn', n_jobs=-1,\n",
       "          penalty='l1', random_state=None, solver='saga', tol=0.0001,\n",
       "          verbose=0, warm_start=False)"
      ]
     },
     "execution_count": 97,
     "metadata": {},
     "output_type": "execute_result"
    }
   ],
   "source": [
    "from sklearn.linear_model import LogisticRegression\n",
    "lr2 = LogisticRegression(penalty='l1', C=0.9, solver='saga', n_jobs=-1)\n",
    "lr2.fit(X_train2,y_train2)"
   ]
  },
  {
   "cell_type": "code",
   "execution_count": 98,
   "metadata": {},
   "outputs": [],
   "source": [
    "train_pred2 = lr2.predict_proba(X_train2)[:,1]\n",
    "test_pred2 = lr2.predict_proba(X_test2)[:,1]"
   ]
  },
  {
   "cell_type": "code",
   "execution_count": 100,
   "metadata": {},
   "outputs": [
    {
     "data": {
      "text/plain": [
       "{'KS': 0.4091,\n",
       " 'AUC': 0.7645,\n",
       " 'Gini': 0.529,\n",
       " 'pic': <Figure size 720x720 with 2 Axes>}"
      ]
     },
     "execution_count": 100,
     "metadata": {},
     "output_type": "execute_result"
    }
   ],
   "source": [
    "test_pref2"
   ]
  },
  {
   "cell_type": "code",
   "execution_count": 99,
   "metadata": {},
   "outputs": [
    {
     "data": {
      "image/png": "[encoded data removed]",
      "text/plain": [
       "<Figure size 720x720 with 2 Axes>"
      ]
     },
     "metadata": {
      "needs_background": "light"
     },
     "output_type": "display_data"
    },
    {
     "data": {
      "image/png": "[encoded data removed]",
      "text/plain": [
       "<Figure size 720x720 with 2 Axes>"
      ]
     },
     "metadata": {
      "needs_background": "light"
     },
     "output_type": "display_data"
    }
   ],
   "source": [
    "train_pref2 = sc.perf_eva(y_train2, train_pred2, title = \"train\")\n",
    "test_pref2 = sc.perf_eva(y_test2, test_pred2, title = \"test\")"
   ]
  },
  {
   "cell_type": "code",
   "execution_count": 81,
   "metadata": {},
   "outputs": [],
   "source": [
    "card = sc.scorecard(bins_adj, lr2, X_train2.columns, odds0=0.5, pdo=20, basepoints_eq0=600)"
   ]
  },
  {
   "cell_type": "code",
   "execution_count": 82,
   "metadata": {},
   "outputs": [
    {
     "data": {
      "text/plain": [
       "{'basepoints':      variable  bin  points\n",
       " 0  basepoints  NaN       0,\n",
       " 'LIMIT_BAL':     variable                  bin  points\n",
       " 0  LIMIT_BAL       [-inf,40000.0)    55.0\n",
       " 1  LIMIT_BAL   [40000.0,140000.0)    60.0\n",
       " 2  LIMIT_BAL  [140000.0,380000.0)    65.0\n",
       " 3  LIMIT_BAL       [380000.0,inf)    69.0,\n",
       " 'AGE':    variable          bin  points\n",
       " 13      AGE  [-inf,26.0)    59.0\n",
       " 14      AGE  [26.0,29.0)    62.0\n",
       " 15      AGE  [29.0,36.0)    63.0\n",
       " 16      AGE   [36.0,inf)    61.0,\n",
       " 'PAY_AMT4':     variable               bin  points\n",
       " 22  PAY_AMT4      [-inf,500.0)    59.0\n",
       " 23  PAY_AMT4    [500.0,2000.0)    61.0\n",
       " 24  PAY_AMT4   [2000.0,4500.0)    63.0\n",
       " 25  PAY_AMT4  [4500.0,15500.0)    65.0\n",
       " 26  PAY_AMT4     [15500.0,inf)    67.0,\n",
       " 'PAY_2':    variable         bin  points\n",
       " 27    PAY_2  [-inf,2.0)    63.0\n",
       " 28    PAY_2   [2.0,inf)    55.0,\n",
       " 'PAY_6':    variable         bin  points\n",
       " 29    PAY_6  [-inf,2.0)    64.0\n",
       " 30    PAY_6   [2.0,inf)    44.0,\n",
       " 'PAY_AMT1':     variable               bin  points\n",
       " 31  PAY_AMT1      [-inf,500.0)    60.0\n",
       " 32  PAY_AMT1    [500.0,5000.0)    62.0\n",
       " 33  PAY_AMT1  [5000.0,17500.0)    63.0\n",
       " 34  PAY_AMT1     [17500.0,inf)    64.0,\n",
       " 'PAY_AMT2':     variable               bin  points\n",
       " 35  PAY_AMT2      [-inf,500.0)    57.0\n",
       " 36  PAY_AMT2    [500.0,2000.0)    61.0\n",
       " 37  PAY_AMT2   [2000.0,5000.0)    62.0\n",
       " 38  PAY_AMT2  [5000.0,17500.0)    66.0\n",
       " 39  PAY_AMT2     [17500.0,inf)    73.0,\n",
       " 'EDUCATION_woe':          variable                                        bin  points\n",
       " 40  EDUCATION_woe                 [-inf,0.09127995170064153)    63.0\n",
       " 41  EDUCATION_woe  [0.09127995170064153,0.16832773040566085)    61.0\n",
       " 42  EDUCATION_woe                  [0.16832773040566085,inf)    61.0,\n",
       " 'PAY_0':    variable         bin  points\n",
       " 43    PAY_0  [-inf,1.0)    74.0\n",
       " 44    PAY_0   [1.0,2.0)    48.0\n",
       " 45    PAY_0   [2.0,inf)    15.0,\n",
       " 'PAY_AMT3':     variable               bin  points\n",
       " 46  PAY_AMT3      [-inf,500.0)    57.0\n",
       " 47  PAY_AMT3    [500.0,3000.0)    61.0\n",
       " 48  PAY_AMT3   [3000.0,5000.0)    64.0\n",
       " 49  PAY_AMT3  [5000.0,12500.0)    66.0\n",
       " 50  PAY_AMT3     [12500.0,inf)    70.0}"
      ]
     },
     "execution_count": 82,
     "metadata": {},
     "output_type": "execute_result"
    }
   ],
   "source": [
    "card"
   ]
  },
  {
   "cell_type": "code",
   "execution_count": 83,
   "metadata": {},
   "outputs": [],
   "source": [
    "import csv\n",
    "\n",
    "with open(r'card.csv', 'w') as f:\n",
    "    for key in card.keys():\n",
    "        f.write(\"%s, %s\\n\"%(key, card[key]))"
   ]
  }
 ],
 "metadata": {
  "kernelspec": {
   "display_name": "Python 3",
   "language": "python",
   "name": "python3"
  },
  "language_info": {
   "codemirror_mode": {
    "name": "ipython",
    "version": 3
   },
   "file_extension": ".py",
   "mimetype": "text/x-python",
   "name": "python",
   "nbconvert_exporter": "python",
   "pygments_lexer": "ipython3",
   "version": "3.7.3"
  }
 },
 "nbformat": 4,
 "nbformat_minor": 4
}
